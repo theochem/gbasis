{
  "cells": [
    {
      "cell_type": "markdown",
      "id": "158f041c",
      "metadata": {},
      "source": [
        "# GBasis Tutorial - Basis Sets\n",
        "\n",
        "In [gbasis](http://gbasis.qcdevs.org/intro.html), a basis is defined as a list of [`GeneralizedContractionShell`](http://gbasis.qcdevs.org/_autosummary/gbasis.html#module-gbasis.contractions) objects, each one representing a linear combination of primitives. Each [`GeneralizedContractionShell`](http://gbasis.qcdevs.org/_autosummary/gbasis.html#module-gbasis.contractions) instances contains information about the angular momentum and center of the shell as well as the exponents and the contraction coefficients of the primitives and their normalization coefficients.\n",
        "\n",
        "This notebook showcases the different ways to define a basis set for a molecule using `gabsis`.\n"
      ]
    },
    {
      "cell_type": "markdown",
      "id": "d11eadf4",
      "metadata": {},
      "source": [
        "## 1. Building Basis Sets from Basis Set File Formats\n",
        "\n",
        "Basis set information is typically accessible in text format, such as those provided by the the [Basis Set Exchange](https://www.basissetexchange.org/). [gbasis](http://gbasis.qcdevs.org/intro.html) supports two of the most popular formats: **Gaussian94** (.gbs) and **NWChem** (.nw). The following examples show how to load a basis set from these files, and how to build a basis set instance from them.\n",
        "\n",
        "### 1.1. Loading Gaussian94 Basis Set File Formats: [`parse_gbs`](http://gbasis.qcdevs.org/_autosummary/gbasis.html#gbasis.parsers.parse_gbs)\n"
      ]
    },
    {
      "cell_type": "code",
      "execution_count": 1,
      "id": "6b3f324f",
      "metadata": {},
      "outputs": [
        {
          "name": "stdout",
          "output_type": "stream",
          "text": [
            "def2-SVP Basis Set Loaded from Gaussian94 Format:\n",
            "Atom: H\n",
            "   Number of shells: 3\n",
            "   Shell 0 has angular momentum 0\n",
            "   Shell 0 has exponents [13.010701    1.9622572   0.44453796]\n",
            "   Shell 0 has coefficients [0.01968216 0.13796524 0.47831935]\n",
            "   Shell 1 has angular momentum 0\n",
            "   Shell 1 has exponents [0.12194962]\n",
            "   Shell 1 has coefficients [1.]\n",
            "   Shell 2 has angular momentum 1\n",
            "   Shell 2 has exponents [0.8]\n",
            "   Shell 2 has coefficients [1.]\n"
          ]
        }
      ],
      "source": [
        "from gbasis.parsers import parse_gbs\n",
        "\n",
        "# load hydrogen atom def2-SVP basis set information with the Gaussian94 format\n",
        "gbs_basis_dict = parse_gbs(\"hydrogen_def2-svp.1.gbs\")\n",
        "\n",
        "# basis set information is stored as\n",
        "# {'Atom Symbol': [(Angular Momentum, [Exponents], [Coefficients]), ...]}\n",
        "print(\"def2-SVP Basis Set Loaded from Gaussian94 Format:\")\n",
        "for atom in gbs_basis_dict:\n",
        "    print(f\"Atom: {atom}\")\n",
        "    print(f\"   Number of shells: {len(gbs_basis_dict[atom])}\")\n",
        "    for i, shell in enumerate(gbs_basis_dict[atom]):\n",
        "        print(f\"   Shell {i} has angular momentum {shell[0]}\")\n",
        "        print(f\"   Shell {i} has exponents {shell[1]}\")\n",
        "        print(f\"   Shell {i} has coefficients {shell[2].flatten()}\")"
      ]
    },
    {
      "cell_type": "markdown",
      "id": "13154a3a",
      "metadata": {},
      "source": [
        "### 1.2. Loading NWChem Basis Set File Formats: [`parse_nwchem`](http://gbasis.qcdevs.org/_autosummary/gbasis.html#gbasis.parsers.parse_nwchem)\n",
        "\n",
        "Checking that the basis set information loaded from Gaussian and NWChem are the same.\n"
      ]
    },
    {
      "cell_type": "code",
      "execution_count": 2,
      "id": "1ae1e3db",
      "metadata": {},
      "outputs": [
        {
          "name": "stdout",
          "output_type": "stream",
          "text": [
            "def2-SVP Basis Set Loaded from NwChem Format:\n",
            "\n",
            "Checking that the Gaussian94 and NWChem loaded basis sets are the same:\n",
            "Atom H exist in NWChem basis: True\n",
            "Are the number of shells the same? True\n",
            "Shell 0 has the same angular momentum: True\n",
            "Shell 0 has the same exponents: True\n",
            "Shell 0 has the same coefficients: True\n",
            "\n",
            "Shell 1 has the same angular momentum: True\n",
            "Shell 1 has the same exponents: True\n",
            "Shell 1 has the same coefficients: True\n",
            "\n",
            "Shell 2 has the same angular momentum: True\n",
            "Shell 2 has the same exponents: True\n",
            "Shell 2 has the same coefficients: True\n",
            "\n"
          ]
        }
      ],
      "source": [
        "import numpy as np\n",
        "from gbasis.parsers import parse_nwchem\n",
        "\n",
        "print(\"def2-SVP Basis Set Loaded from NwChem Format:\")\n",
        "nw_basis_dict = parse_nwchem(\"hydrogen_def2-svp.1.nw\")\n",
        "\n",
        "print(\"\\nChecking that the Gaussian94 and NWChem loaded basis sets are the same:\")\n",
        "for atom, value in gbs_basis_dict.items():\n",
        "    print(f\"Atom {atom} exist in NWChem basis: {atom in nw_basis_dict}\")\n",
        "    print(f\"Are the number of shells the same? {len(value) == len(nw_basis_dict[atom])}\")\n",
        "\n",
        "    # check that the angular momentum, exponents, and coefficients are the same for each shell\n",
        "    contractions_pair = enumerate(zip(value, nw_basis_dict[atom]))\n",
        "    for i, (gb_shell, nw_shell) in contractions_pair:\n",
        "        print(f\"Shell {i} has the same angular momentum: {gb_shell[0] == nw_shell[0]}\")\n",
        "        print(f\"Shell {i} has the same exponents: {np.allclose(gb_shell[1], nw_shell[1])}\")\n",
        "        print(f\"Shell {i} has the same coefficients: {np.allclose(gb_shell[2], nw_shell[2])}\")\n",
        "        print(\"\")"
      ]
    },
    {
      "cell_type": "markdown",
      "id": "38d817ca",
      "metadata": {},
      "source": [
        "### 1.3. Making Contraction Shells: [`make_contractions`](http://gbasis.qcdevs.org/_autosummary/gbasis.html#gbasis.parsers.make_contractions)\n",
        "\n",
        "Once the data for a basis set are loaded as a dictionary, the [`make_contractions`](http://gbasis.qcdevs.org/_autosummary/gbasis.html#gbasis.parsers.make_contractions) function is used to build the basis set given a list of atoms, their atomic coordinates, and `coord_types`. The latter specifies the coordinate system for building the contraction shells. Setting the `coord_types='cartesian'` or `coord_types='c'` uses a Cartesian coordinate system, and setting `coord_types='spherical'` or `coord_types='p'` (for pure), the contraction shells are built in the spherical coordinate system.\n",
        "\n",
        "The following example shows how to use this function to build a basis set for $\\mathrm{H}_{2}$ with different contraction shells.\n",
        "\n",
        "#### Example: Cartesian Contraction Shells\n",
        "\n",
        "Setting `coord_types='cartesian'` or `coord_types='c'` uses a Cartesian coordinate system for **all** contraction shells.\n"
      ]
    },
    {
      "cell_type": "code",
      "execution_count": 3,
      "id": "a6380cce",
      "metadata": {},
      "outputs": [
        {
          "name": "stdout",
          "output_type": "stream",
          "text": [
            "Number of contracted basis functions: 6\n",
            "Types of contractions: ['cartesian', 'cartesian', 'cartesian', 'cartesian', 'cartesian', 'cartesian']\n",
            "\n",
            "Showing the first three contraction shells:\n",
            "\n",
            "Contraction shell #0\n",
            "   Center: [0. 0. 0.]\n",
            "   Angular momentum: 0\n",
            "   Primitive coefficients [[0.01968216 0.13796524 0.47831935]]\n",
            "   Primitive exponents [13.010701    1.9622572   0.44453796]\n",
            "   Primitive normalization constant [[1.70131166]]\n",
            "Contraction shell #1\n",
            "   Center: [0. 0. 0.]\n",
            "   Angular momentum: 0\n",
            "   Primitive coefficients [[1.]]\n",
            "   Primitive exponents [0.12194962]\n",
            "   Primitive normalization constant [[1.]]\n",
            "Contraction shell #2\n",
            "   Center: [0. 0. 0.]\n",
            "   Angular momentum: 1\n",
            "   Primitive coefficients [[1.]]\n",
            "   Primitive exponents [0.8]\n",
            "   Primitive normalization constant [[1. 1. 1.]]\n"
          ]
        }
      ],
      "source": [
        "import numpy as np\n",
        "from gbasis.parsers import make_contractions\n",
        "\n",
        "# Define atomic symbols and coordinates\n",
        "atoms = [\"H\", \"H\"]\n",
        "atcoords = np.array([[0.0, 0.0, 0.0], [0.0, 0.0, 1.0]])\n",
        "\n",
        "# Make contractions at def2-SVP basis set\n",
        "gbs_basis = make_contractions(gbs_basis_dict, atoms, atcoords, coord_types=\"cartesian\")\n",
        "\n",
        "print(\"Number of contracted basis functions:\", len(gbs_basis))  # 3 for each H atom\n",
        "print(f\"Types of contractions: {[i.coord_type for i in gbs_basis]}\", end=\"\\n\\n\")\n",
        "print(\"Showing the first three contraction shells:\\n\")\n",
        "for i, shell in enumerate(gbs_basis[:3]):\n",
        "    print(f\"Contraction shell #{i}\")\n",
        "    print(f\"   Center: {shell.coord}\")\n",
        "    print(f\"   Angular momentum: {shell.angmom}\")\n",
        "    print(f\"   Primitive coefficients {shell.coeffs.T}\")\n",
        "    print(f\"   Primitive exponents {shell.exps}\")\n",
        "    print(f\"   Primitive normalization constant {shell.norm_cont}\")"
      ]
    },
    {
      "cell_type": "markdown",
      "id": "37b5234a",
      "metadata": {},
      "source": [
        "#### Example: Spherical Contraction Shells\n",
        "\n",
        "Setting `coord_types='spherical'` or `coord_types='p'` (where `\"p\"` stands for pure) uses a Spherical coordinate system for **all** contraction shells.\n"
      ]
    },
    {
      "cell_type": "code",
      "execution_count": 4,
      "id": "46ca0063",
      "metadata": {},
      "outputs": [
        {
          "name": "stdout",
          "output_type": "stream",
          "text": [
            "Number of contracted basis functions: 6\n",
            "Types of contractions: ['spherical', 'spherical', 'spherical', 'spherical', 'spherical', 'spherical']\n",
            "\n",
            "Showing the first three contraction shells:\n",
            "\n",
            "Contraction shell #0\n",
            "   Center: [0. 0. 0.]\n",
            "   Angular momentum: 0\n",
            "   Primitive coefficients [[0.01968216 0.13796524 0.47831935]]\n",
            "   Primitive exponents [13.010701    1.9622572   0.44453796]\n",
            "   Primitive normalization constant [[1.70131166]]\n",
            "Contraction shell #1\n",
            "   Center: [0. 0. 0.]\n",
            "   Angular momentum: 0\n",
            "   Primitive coefficients [[1.]]\n",
            "   Primitive exponents [0.12194962]\n",
            "   Primitive normalization constant [[1.]]\n",
            "Contraction shell #2\n",
            "   Center: [0. 0. 0.]\n",
            "   Angular momentum: 1\n",
            "   Primitive coefficients [[1.]]\n",
            "   Primitive exponents [0.8]\n",
            "   Primitive normalization constant [[1. 1. 1.]]\n"
          ]
        }
      ],
      "source": [
        "# make contractions for the hydrogen def2-SVP basis set\n",
        "gbs_basis = make_contractions(gbs_basis_dict, atoms, atcoords, coord_types=\"spherical\")\n",
        "\n",
        "print(\"Number of contracted basis functions:\", len(gbs_basis))  # 3 for each H atom\n",
        "print(f\"Types of contractions: {[i.coord_type for i in gbs_basis]}\", end=\"\\n\\n\")\n",
        "print(\"Showing the first three contraction shells:\\n\")\n",
        "for i, shell in enumerate(gbs_basis[:3]):\n",
        "    print(f\"Contraction shell #{i}\")\n",
        "    print(f\"   Center: {shell.coord}\")\n",
        "    print(f\"   Angular momentum: {shell.angmom}\")\n",
        "    print(f\"   Primitive coefficients {shell.coeffs.T}\")\n",
        "    print(f\"   Primitive exponents {shell.exps}\")\n",
        "    print(f\"   Primitive normalization constant {shell.norm_cont}\")"
      ]
    },
    {
      "cell_type": "markdown",
      "id": "88400ec4",
      "metadata": {},
      "source": [
        "#### Example: Mixed Contraction Shells\n",
        "\n",
        "The `coord_type` can be specified as a list of strings, each representing the `coord_type` of a contraction shell, which allows mixed contraction shell types. Obviously, the length of this list must be equal to the number of contraction shells in the molecule.\n",
        "\n",
        "The following example shows how to build mixed contraction shells for $\\mathrm{H}_{2}$ molecule. The first 3 contraction shells (corresponding to the first atom) are built in the Cartesian coordinate system, while the last 3 contraction shells (corresponding to the second atom) are built in the spherical coordinate system.\n"
      ]
    },
    {
      "cell_type": "code",
      "execution_count": 5,
      "id": "73b42d29",
      "metadata": {},
      "outputs": [
        {
          "name": "stdout",
          "output_type": "stream",
          "text": [
            "Number of contracted basis functions: 6\n",
            "Types of contractions: ['cartesian', 'cartesian', 'cartesian', 'spherical', 'spherical', 'spherical']\n",
            "\n",
            "Number of Contracted Basis Functions: 6\n",
            "\n",
            "Showing the first three contraction shells:\n",
            "\n",
            "Contraction Shell #0\n",
            "   Center: [0. 0. 0.]\n",
            "   Angular momentum: 0\n",
            "   Primitive coefficients [[0.01968216 0.13796524 0.47831935]]\n",
            "   Primitive exponents [13.010701    1.9622572   0.44453796]\n",
            "   Primitive normalization constant [[1.70131166]]\n",
            "\n",
            "   Coordinate type: cartesian\n",
            "Contraction Shell #1\n",
            "   Center: [0. 0. 0.]\n",
            "   Angular momentum: 0\n",
            "   Primitive coefficients [[1.]]\n",
            "   Primitive exponents [0.12194962]\n",
            "   Primitive normalization constant [[1.]]\n",
            "\n",
            "   Coordinate type: cartesian\n",
            "Contraction Shell #2\n",
            "   Center: [0. 0. 0.]\n",
            "   Angular momentum: 1\n",
            "   Primitive coefficients [[1.]]\n",
            "   Primitive exponents [0.8]\n",
            "   Primitive normalization constant [[1. 1. 1.]]\n",
            "\n",
            "   Coordinate type: cartesian\n"
          ]
        }
      ],
      "source": [
        "# list of coordinate types, one for each shell\n",
        "coord_types = [\"cartesian\", \"cartesian\", \"cartesian\", \"spherical\", \"spherical\", \"spherical\"]\n",
        "\n",
        "# make contractions for the hydrogen def2-SVP basis set\n",
        "gbs_basis = make_contractions(gbs_basis_dict, atoms, atcoords, coord_types=coord_types)\n",
        "\n",
        "print(\"Number of contracted basis functions:\", len(gbs_basis))  # 3 for each H atom\n",
        "print(f\"Types of contractions: {[i.coord_type for i in gbs_basis]}\", end=\"\\n\\n\")\n",
        "\n",
        "print(f\"Number of Contracted Basis Functions: {len(gbs_basis)}\\n\")\n",
        "\n",
        "print(\"Showing the first three contraction shells:\\n\")\n",
        "for i, shell in enumerate(gbs_basis[:3]):\n",
        "    print(f\"Contraction Shell #{i}\")\n",
        "    print(f\"   Center: {shell.coord}\")\n",
        "    print(f\"   Angular momentum: {shell.angmom}\")\n",
        "    print(f\"   Primitive coefficients {shell.coeffs.T}\")\n",
        "    print(f\"   Primitive exponents {shell.exps}\")\n",
        "    print(f\"   Primitive normalization constant {shell.norm_cont}\\n\")\n",
        "    print(f\"   Coordinate type: {shell.coord_type}\")"
      ]
    },
    {
      "cell_type": "markdown",
      "id": "f0e7c789",
      "metadata": {},
      "source": [
        "## 2. Building Basis Sets from Quantum Chemistry Calculations\n",
        "\n",
        "[gbasis](http://gbasis.qcdevs.org/intro.html) supports obtaining basis function information from quantum chemistry calculations by interfacing with [iodata](https://iodata.readthedocs.io/en/latest/) and [pySCF](https://pyscf.org/).\n",
        "\n",
        "### 2.1. Interfacing with [IOData](https://iodata.readthedocs.io/en/latest/) Library: [`from_iodata`](http://gbasis.qcdevs.org/_autosummary/gbasis.html#gbasis.wrappers.from_iodata)\n",
        "\n",
        "[IOData](https://iodata.readthedocs.io/en/latest/) supports parsing various quantum chemistry file formats, like Gaussian formatted checkpoint files (.fchk), molden (.molden), and wave-function files (.wfn and .wfx), and provides a unified interface to access the data in these files through `IOData` object. This object is passed to [`from_iodata`](http://gbasis.qcdevs.org/_autosummary/gbasis.html#gbasis.wrappers.from_iodata) function to obtain the basis set information.\n",
        "\n",
        "The following example loads basis functions from a FCHK file, but other formats supported by [`iodata`](https://iodata.readthedocs.io/en/latest/) can also be used.\n"
      ]
    },
    {
      "cell_type": "code",
      "execution_count": 6,
      "id": "28dfd239",
      "metadata": {},
      "outputs": [
        {
          "name": "stdout",
          "output_type": "stream",
          "text": [
            "Number of Contracted Basis Functions: 24\n",
            "Types of contractions: ['cartesian', 'cartesian', 'cartesian', 'cartesian', 'cartesian', 'cartesian', 'cartesian', 'cartesian', 'cartesian', 'cartesian', 'spherical', 'spherical', 'spherical', 'spherical', 'cartesian', 'cartesian', 'cartesian', 'cartesian', 'cartesian', 'cartesian', 'cartesian', 'cartesian', 'cartesian', 'cartesian']\n",
            "\n",
            "Showing the first three contraction shells:\n",
            "\n",
            "Contraction Shell #0\n",
            "   Center: [ 0.01418428  0.01049743 -0.00741906]\n",
            "   Angular momentum: 0\n",
            "   Primitive coefficients: [[5.72273352e-04 4.43532335e-03 2.30201077e-02 9.28224907e-02\n",
            "  2.93785000e-01 6.74016045e-01]]\n",
            "   Primitive exponents: [27032.3826     4052.38714     922.327227    261.24071      85.3546414\n",
            "    31.0350352]\n",
            "   Primitive normalization constant: [[1.]]\n",
            "\n",
            "Contraction Shell #1\n",
            "   Center: [ 0.01418428  0.01049743 -0.00741906]\n",
            "   Angular momentum: 0\n",
            "   Primitive coefficients: [[0.63839937 0.39534587]]\n",
            "   Primitive exponents: [12.2608607  4.9987076]\n",
            "   Primitive normalization constant: [[1.]]\n",
            "\n",
            "Contraction Shell #2\n",
            "   Center: [ 0.01418428  0.01049743 -0.00741906]\n",
            "   Angular momentum: 0\n",
            "   Primitive coefficients: [[1.]]\n",
            "   Primitive exponents: [1.17031082]\n",
            "   Primitive normalization constant: [[1.]]\n",
            "\n"
          ]
        }
      ],
      "source": [
        "from iodata import load_one\n",
        "from gbasis.wrappers import from_iodata\n",
        "\n",
        "# load basis functions from a fchk file of water at uwB97XD/def2-TZVPD level\n",
        "iodata_mol = load_one(\"water.fchk\")\n",
        "iodata_basis = from_iodata(iodata_mol)\n",
        "\n",
        "# print the basis set information\n",
        "print(f\"Number of Contracted Basis Functions: {len(iodata_basis)}\")\n",
        "print(f\"Types of contractions: {[b.coord_type for b in iodata_basis]}\", end=\"\\n\\n\")\n",
        "print(\"Showing the first three contraction shells:\", end=\"\\n\\n\")\n",
        "\n",
        "for i, shell in enumerate(iodata_basis[:3]):\n",
        "    print(f\"Contraction Shell #{i}\")\n",
        "    print(f\"   Center: {shell.coord}\")\n",
        "    print(f\"   Angular momentum: {shell.angmom}\")\n",
        "    print(f\"   Primitive coefficients: {shell.coeffs.T}\")\n",
        "    print(f\"   Primitive exponents: {shell.exps}\")\n",
        "    print(f\"   Primitive normalization constant: {shell.norm_cont}\\n\")"
      ]
    },
    {
      "cell_type": "markdown",
      "id": "dc5e1847",
      "metadata": {},
      "source": [
        "### 2.2. Interfacing with [pySCF](https://pyscf.org/) Library: [`from_pyscf`](http://gbasis.qcdevs.org/_autosummary/gbasis.html#gbasis.wrappers.from_pyscf)\n",
        "\n",
        "The [`from_pyscf`](http://gbasis.qcdevs.org/_autosummary/gbasis.html#gbasis.wrappers.from_pyscf) function supports building basis functions directly from [`pyscf.gto.mole.Mole`](https://pyscf.org/pyscf_api_docs/pyscf.gto.html#pyscf.gto.mole.Mole) object. Setting `cart=False` when creating an instance of `Mole`, spherical coordinates are used.\n"
      ]
    },
    {
      "cell_type": "code",
      "execution_count": 7,
      "id": "d5a9da5f",
      "metadata": {},
      "outputs": [
        {
          "name": "stdout",
          "output_type": "stream",
          "text": [
            "Number of contracted basis functions: 5\n",
            "Types of contractions: ['cartesian', 'cartesian', 'cartesian', 'cartesian', 'cartesian']\n",
            "\n",
            "Showing the first three contraction shells:\n",
            "\n",
            "Contraction Shell #0\n",
            "   Center: [0. 0. 0.]\n",
            "   Angular momentum: 0\n",
            "   Primitive coefficients [[0.15432897 0.53532814 0.44463454]]\n",
            "   Primitive exponents [130.70932    23.808861    6.4436083]\n",
            "   Primitive normalization constant [[0.99999999]]\n",
            "\n",
            "Contraction Shell #1\n",
            "   Center: [0. 0. 0.]\n",
            "   Angular momentum: 0\n",
            "   Primitive coefficients [[-0.09996723  0.39951283  0.70011547]]\n",
            "   Primitive exponents [5.0331513 1.1695961 0.380389 ]\n",
            "   Primitive normalization constant [[0.99999999]]\n",
            "\n",
            "Contraction Shell #2\n",
            "   Center: [0. 0. 0.]\n",
            "   Angular momentum: 1\n",
            "   Primitive coefficients [[0.15591627 0.60768372 0.39195739]]\n",
            "   Primitive exponents [5.0331513 1.1695961 0.380389 ]\n",
            "   Primitive normalization constant [[0.99999999 0.99999999 0.99999999]]\n",
            "\n"
          ]
        }
      ],
      "source": [
        "from pyscf import gto\n",
        "from gbasis.wrappers import from_pyscf\n",
        "\n",
        "# build an STO-3G basis for water using PySCF\n",
        "molecule = \"\"\"\n",
        "O 0 0 0;\n",
        "H 0 1 0;\n",
        "H 0 0 1\n",
        "\"\"\"\n",
        "pyscf_mol = gto.Mole(cart=True)\n",
        "pyscf_mol.build(atom=molecule, basis=\"sto-3g\")\n",
        "pyscf_basis = from_pyscf(pyscf_mol)\n",
        "\n",
        "print(f\"Number of contracted basis functions: {len(pyscf_basis)}\")\n",
        "print(f\"Types of contractions: {[shell.coord_type for shell in pyscf_basis]}\", end=\"\\n\\n\")\n",
        "print(\"Showing the first three contraction shells:\", end=\"\\n\\n\")\n",
        "\n",
        "for i, shell in enumerate(pyscf_basis[:3]):\n",
        "    print(f\"Contraction Shell #{i}\")\n",
        "    print(f\"   Center: {shell.coord}\")\n",
        "    print(f\"   Angular momentum: {shell.angmom}\")\n",
        "    print(f\"   Primitive coefficients {shell.coeffs.T}\")\n",
        "    print(f\"   Primitive exponents {shell.exps}\")\n",
        "    print(f\"   Primitive normalization constant {shell.norm_cont}\\n\")"
      ]
    }
  ],
  "metadata": {
    "kernelspec": {
      "display_name": "Python 3 (ipykernel)",
      "language": "python",
      "name": "python3"
    },
    "language_info": {
      "codemirror_mode": {
        "name": "ipython",
        "version": 3
      },
      "file_extension": ".py",
      "mimetype": "text/x-python",
      "name": "python",
      "nbconvert_exporter": "python",
      "pygments_lexer": "ipython3",
      "version": "3.11.5"
    }
  },
  "nbformat": 4,
  "nbformat_minor": 5
}
