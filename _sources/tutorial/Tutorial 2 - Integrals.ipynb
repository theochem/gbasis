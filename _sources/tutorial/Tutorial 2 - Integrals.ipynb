{
 "cells": [
  {
   "cell_type": "markdown",
   "id": "158f041c",
   "metadata": {},
   "source": [
    "# GBasis Tutorial - Integrals\n"
   ]
  },
  {
   "cell_type": "markdown",
   "id": "7f5f9a95",
   "metadata": {},
   "source": [
    "[gbasis](http://gbasis.qcdevs.org/intro.html) supports computation of 1- and 2-electron integrals. See the using the [`gbasis.integrals`](http://gbasis.qcdevs.org/_autosummary/gbasis.integrals.html#module-gbasis.integrals) module for the complete list of integrals supported.\n",
    "\n",
    "This notebook provides examples for computing various integrals for the helium hydride ion ($\\text{HeH}^{+}$) using the `6-31G` basis set, and `6-311G` when two basis sets are needed. When available reference values are included from the calculation's output file for comparison.\n",
    "\n",
    "## Building Basis Set\n",
    "\n",
    "Here, the basis set is built from a formatted checkpoint file (of a HF/6-31G calculation for the helium hydride ion) which is loaded using the [IOData](https://iodata.readthedocs.io/en/latest/) package. For a detailed tutorial on building basis sets, see the [Building Basis Set]() tutorial.\n"
   ]
  },
  {
   "cell_type": "code",
   "execution_count": 1,
   "id": "727c3c13",
   "metadata": {},
   "outputs": [
    {
     "name": "stdout",
     "output_type": "stream",
     "text": [
      "Loaded: HeH+ ion experimental R\n",
      "Basis: 6-31g\n",
      "Atomic numbers: [1 2]\n",
      "Molecular charge: 1.0\n",
      "Atomic coordinates:\n",
      "[[ 3.12913779e-17  0.00000000e+00 -9.72579045e-01]\n",
      " [ 3.10359322e-17  0.00000000e+00  4.86289523e-01]]\n",
      "Number of contraction shells: 4\n"
     ]
    }
   ],
   "source": [
    "from iodata import load_one\n",
    "from gbasis.wrappers import from_iodata\n",
    "\n",
    "# load FCHK file and build basis set in atomic orbitals (AO) basis\n",
    "# Source:\n",
    "mol = load_one(\"HeHp.fchk\")\n",
    "ao_basis = from_iodata(mol)\n",
    "\n",
    "print(f\"Loaded: {mol.title}\")\n",
    "print(f\"Basis: {mol.obasis_name}\")\n",
    "print(f\"Atomic numbers: {mol.atnums}\")\n",
    "print(f\"Molecular charge: {mol.charge}\")\n",
    "print(f\"Atomic coordinates:\\n{mol.atcoords}\")\n",
    "print(f\"Number of contraction shells: {len(ao_basis)}\")"
   ]
  },
  {
   "cell_type": "markdown",
   "id": "a25dee9a",
   "metadata": {},
   "source": [
    "## 1. One-Electron Integrals\n",
    "\n",
    "### 1.1. Overlap Integrals\n",
    "\n",
    "Given a list of generalized contraction shells, the overlap matrix is computed by [`overlap_integral`](http://gbasis.qcdevs.org/_autosummary/gbasis.integrals.html#gbasis.integrals.overlap.overlap_integral) function. This result is the AO overlap integrals, unless the optional `transform` matrix is provided, which transforms the basis functions into a different basis set (e.g., from the atomic orbital basis to the molecular orbital basis) before computing the overlap integrals.\n",
    "\n",
    "```text\n",
    "# From Gaussian16 Output File:\n",
    "# Overlap matrix (S) of atomic orbitals:\n",
    "#   1  0.100000D+01\n",
    "#   2  0.658292D+00  0.100000D+01\n",
    "#   3  0.300303D+00  0.334248D+00  0.100000D+01\n",
    "#   4  0.536094D+00  0.746564D+00  0.634148D+00  0.100000D+01\n",
    "```\n"
   ]
  },
  {
   "cell_type": "code",
   "execution_count": 2,
   "id": "9df3dd28",
   "metadata": {},
   "outputs": [
    {
     "name": "stdout",
     "output_type": "stream",
     "text": [
      "Overlap matrix (S) of atomic orbitals:\n",
      "[[1.         0.65829197 0.30030322 0.53609401]\n",
      " [0.65829197 1.         0.33424849 0.74656436]\n",
      " [0.30030322 0.33424849 1.         0.63414774]\n",
      " [0.53609401 0.74656436 0.63414774 1.        ]]\n",
      "\n",
      "Are AOs orthogonal? False\n"
     ]
    }
   ],
   "source": [
    "import numpy as np\n",
    "from gbasis.integrals.overlap import overlap_integral\n",
    "\n",
    "# compute overlap of atomic orbitals (AO)\n",
    "int1e_overlap_ao = overlap_integral(ao_basis)\n",
    "print(\"Overlap matrix (S) of atomic orbitals:\")\n",
    "print(int1e_overlap_ao, end=\"\\n\\n\")\n",
    "\n",
    "# check whether overlap matrix is identity matrix (i.e., atomic orbitals are orthonormal)\n",
    "is_orthogonal = np.allclose(int1e_overlap_ao, np.eye(int1e_overlap_ao.shape[0]))\n",
    "print(f\"Are AOs orthogonal? {is_orthogonal}\")"
   ]
  },
  {
   "cell_type": "markdown",
   "id": "f8d35d80",
   "metadata": {},
   "source": [
    "#### Example: Overlap Integrals in MO Basis\n",
    "\n",
    "The transformation matrix from AO to MO basis is the transposed molecular orbital coefficient matrix. Providing this transformation as the `transform` argument to the [`overlap_integral`](http://gbasis.qcdevs.org/_autosummary/gbasis.integrals.html#gbasis.integrals.overlap.overlap_integral) function, results in the overlap integrals in the MO basis (i.e., transformed basis).\n"
   ]
  },
  {
   "cell_type": "code",
   "execution_count": 3,
   "id": "158141c4",
   "metadata": {},
   "outputs": [
    {
     "name": "stdout",
     "output_type": "stream",
     "text": [
      "Overlap matrix (S) of molecular orbitals:\n",
      "[[ 1.00000000e+00  2.38057226e-09 -1.60352739e-09  1.18604386e-09]\n",
      " [ 2.38057211e-09  1.00000000e+00 -2.64133088e-09  1.11497621e-09]\n",
      " [-1.60352734e-09 -2.64133095e-09  9.99999999e-01 -2.03584584e-09]\n",
      " [ 1.18604397e-09  1.11497609e-09 -2.03584581e-09  1.00000000e+00]]\n",
      "\n",
      "Are MOs orthogonal? True\n"
     ]
    }
   ],
   "source": [
    "# get MO coefficients from IOData object\n",
    "mo_coeffs = mol.mo.coeffs\n",
    "\n",
    "# compute overlap of molecular orbitals (MO)\n",
    "int1e_overlap_mo = overlap_integral(ao_basis, transform=mo_coeffs.T)\n",
    "\n",
    "print(\"Overlap matrix (S) of molecular orbitals:\")\n",
    "print(int1e_overlap_mo, end=\"\\n\\n\")\n",
    "\n",
    "# check whether overlap matrix is identity matrix (i.e., molecular orbitals are orthonormal)\n",
    "is_orthogonal = np.allclose(int1e_overlap_mo, np.eye(int1e_overlap_mo.shape[0]))\n",
    "print(f\"Are MOs orthogonal? {is_orthogonal}\")"
   ]
  },
  {
   "cell_type": "markdown",
   "id": "5c197ddc",
   "metadata": {},
   "source": [
    "### 1.2. Overlap Integrals Between Two Different Basis Sets\n",
    "\n",
    "The [`overlap_integral_asymmetric`](http://gbasis.qcdevs.org/_autosummary/gbasis.integrals.html#module-gbasis.integrals.overlap_asymm) function computes the overlap integrals between two different basis sets, each denoted by a list of generalized contraction shells. The following example showcase how to use this feature to compute the overlap integrals between the `6-31G` and `6-311G` basis sets:\n"
   ]
  },
  {
   "cell_type": "code",
   "execution_count": 4,
   "id": "f65c80df",
   "metadata": {},
   "outputs": [
    {
     "name": "stdout",
     "output_type": "stream",
     "text": [
      "Number of shells in 6-311G basis: 6\n",
      "Number of shells in 6-31G basis: 4\n",
      "\n",
      "Shape of overlap matrix: (6, 4)\n",
      "Overlap matrix (S) of atomic orbitals between old and new basis:\n",
      "[[0.96216463 0.49156933 0.22083097 0.40624233]\n",
      " [0.86422289 0.91312074 0.37721246 0.7169519 ]\n",
      " [0.52114949 0.96290073 0.28035313 0.69362244]\n",
      " [0.15725291 0.17901201 0.90190087 0.37318667]\n",
      " [0.40988749 0.46228859 0.92666879 0.81268342]\n",
      " [0.53245911 0.78732494 0.57381839 0.9927251 ]]\n"
     ]
    }
   ],
   "source": [
    "from gbasis.parsers import parse_gbs, make_contractions\n",
    "from gbasis.integrals.overlap_asymm import overlap_integral_asymmetric\n",
    "\n",
    "# create an 6-311G basis set for the helium hydride ion in spherical coordinates\n",
    "basis_dict = parse_gbs(\"HeH_6-311g.gbs\")\n",
    "ao_basis_new = make_contractions(basis_dict, [\"H\", \"He\"], mol.atcoords, \"p\")\n",
    "\n",
    "print(f\"Number of shells in 6-311G basis: {len(ao_basis_new)}\")\n",
    "print(f\"Number of shells in 6-31G basis: {len(ao_basis)}\", end=\"\\n\\n\")\n",
    "\n",
    "# compute overlap of two different basis sets\n",
    "int1e_overlap_basis = overlap_integral_asymmetric(ao_basis_new, ao_basis)\n",
    "\n",
    "print(f\"Shape of overlap matrix: {int1e_overlap_basis.shape}\")\n",
    "print(\"Overlap matrix (S) of atomic orbitals between old and new basis:\")\n",
    "print(int1e_overlap_basis)"
   ]
  },
  {
   "cell_type": "markdown",
   "id": "8b8769c1",
   "metadata": {},
   "source": [
    "#### Example: Project MO Coefficients from One Basis Set to Another\n",
    "\n",
    "Given a set of HF molecular orbitals (MO) $\\psi_{i}$ and basis functions (AOs) $\\phi_{\\mu}$, they are related by the MO coefficient matrix $C_{\\mu i}$ by:\n",
    "\n",
    "$$\\psi_{i} = \\sum_{\\mu} C_{\\mu i} \\phi_{\\mu}$$\n",
    "\n",
    "where $C_{\\mu i}$ can be seen as the transformation matrix from AOs to MOs. These MO coefficients $\\{C_{\\mu i}\\}$ are the elements of the overlap matrix between the MO basis $\\{\\psi\\}$ and the AO basis $\\{\\phi\\}$.\n",
    "\n",
    "$$C_{\\mu i} = \\int  \\phi_{\\mu} \\psi_{i} d\\tau$$\n",
    "\n",
    "Given a different set of basis functions $\\chi_{\\nu}$, the MO coefficients in the new basis can be expressed (projected) as:\n",
    "\n",
    "$$C_{\\mu i}^{\\text{basis 2}} = \\int \\psi_{i} \\phi_{\\mu}^{\\text{basis 2}} d\\tau$$\n",
    "\n",
    "where $\\phi_{\\mu}^{\\text{basis 2}}$ are the basis functions in the new basis set. This can be seen as the overlap matrix between the (transformed) MO basis $\\{\\psi\\}$ and the new basis set $\\{\\phi^{\\text{basis 2}}\\}$.\n",
    "\n",
    "In the following example we will use the [`overlap_integral_asymmetric`](http://gbasis.qcdevs.org/_autosummary/gbasis.integrals.html#module-gbasis.integrals.overlap_asymm) method to project the MO coefficient matrix of $\\text{HeH}^{+}$ from the `6-31G` basis set into the `6-311G` basis set. For this we will use the MO coefficient matrix from the `6-31G` basis set as the transformation matrix of this basis set into the MO basis.\n"
   ]
  },
  {
   "cell_type": "code",
   "execution_count": 5,
   "id": "b2355639",
   "metadata": {},
   "outputs": [
    {
     "name": "stdout",
     "output_type": "stream",
     "text": [
      "Shape of MO coefficients: (6, 4)\n",
      "MO coefficients projected in the 6-311G basis:\n",
      "[[ 0.4989715   0.52890845  0.61951534  0.2238233 ]\n",
      " [ 0.68472982  0.6781266   0.00950138  0.16895291]\n",
      " [ 0.54023005  0.64980473 -0.47179196  0.11732507]\n",
      " [ 0.71577532 -0.26824295  0.01070959 -0.55172329]\n",
      " [ 0.94958022 -0.21177303 -0.05871831 -0.03034387]\n",
      " [ 0.8306327   0.14545388 -0.31205797  0.43115268]]\n",
      "\n",
      "Overlap matrix (S) of projected MOs (in the 6-311G basis):\n",
      "[[10.47059879  3.68860314 -0.96422155  1.2625921 ]\n",
      " [ 3.68860314  2.62984775 -0.24828188  1.1829303 ]\n",
      " [-0.96422155 -0.24828188  0.57472127 -0.13061703]\n",
      " [ 1.2625921   1.1829303  -0.13061703  0.69815484]]\n",
      "\n",
      "Projected MOs are orthogonal: False\n"
     ]
    }
   ],
   "source": [
    "# project MO coefficients to new basis\n",
    "mo_coeffs_new = overlap_integral_asymmetric(ao_basis_new, ao_basis, transform_two=mo_coeffs.T)\n",
    "print(f\"Shape of MO coefficients: {mo_coeffs_new.shape}\")  # (nmo, nbasis)\n",
    "print(\"MO coefficients projected in the 6-311G basis:\")\n",
    "print(mo_coeffs_new, end=\"\\n\\n\")\n",
    "\n",
    "print(\"Overlap matrix (S) of projected MOs (in the 6-311G basis):\")\n",
    "int1e_ovlp_mo_new = overlap_integral(ao_basis_new, mo_coeffs_new.T)\n",
    "print(int1e_ovlp_mo_new, end=\"\\n\\n\")\n",
    "\n",
    "is_orthogonal = np.allclose(int1e_ovlp_mo_new, np.eye(int1e_ovlp_mo_new.shape[0])) # check if overlap is I\n",
    "print(f\"Projected MOs are orthogonal: {is_orthogonal}\")"
   ]
  },
  {
   "cell_type": "code",
   "execution_count": 6,
   "id": "87cc7af8",
   "metadata": {},
   "outputs": [
    {
     "name": "stdout",
     "output_type": "stream",
     "text": [
      "Shape of MO coefficients: (4, 4)\n",
      "MO coefficients projected in the 6-311G basis:\n",
      "[[ 0.60290436  0.62310221  0.90324527  0.87056796]\n",
      " [ 0.60630882  0.68647993 -0.2732068   0.07995231]\n",
      " [ 0.47343187 -0.3462874  -0.01841626 -0.26148619]\n",
      " [ 0.21156138  0.14343635 -0.3304041   0.40907705]]\n",
      "\n",
      "Overlap matrix (S) of projected MOs (in the 6-311G basis):\n",
      "[[2.29991242 1.53077726 0.3317762  1.46786878]\n",
      " [1.53077726 1.4545096  0.39176399 1.27224729]\n",
      " [0.3317762  0.39176399 0.49099634 0.46349437]\n",
      " [1.46786878 1.27224729 0.46349437 1.23594644]]\n",
      "\n",
      "Projected coefficients are orthogonal: False\n"
     ]
    }
   ],
   "source": [
    "# project MO coefficients to new basis\n",
    "mo_coeffs_new = overlap_integral_asymmetric(ao_basis, ao_basis, transform_one=mo_coeffs.T)\n",
    "print(f\"Shape of MO coefficients: {mo_coeffs_new.shape}\")  # (nmo, nbasis)\n",
    "print(\"MO coefficients projected in the 6-311G basis:\")\n",
    "print(mo_coeffs_new, end=\"\\n\\n\")\n",
    "\n",
    "print(\"Overlap matrix (S) of projected MOs (in the 6-311G basis):\")\n",
    "int1e_ovlp_mo_new = overlap_integral(ao_basis, mo_coeffs_new.T)\n",
    "print(int1e_ovlp_mo_new, end=\"\\n\\n\")\n",
    "\n",
    "is_orthogonal = np.allclose(int1e_ovlp_mo_new, np.eye(int1e_ovlp_mo_new.shape[0]))  # check if overlap is I\n",
    "print(f\"Projected coefficients are orthogonal: {is_orthogonal}\")"
   ]
  },
  {
   "cell_type": "markdown",
   "id": "79422322",
   "metadata": {},
   "source": [
    "### 1.3. Multipole Moment Integrals\n",
    "\n",
    "The [moment_integral](http://gbasis.qcdevs.org/_autosummary/gbasis.integrals.html#gbasis.integrals.moment.moment_integral) function computes the multipole moment integrals for two pairs of basis functions in AO basis, unless `transform` argument is provided. The center and order of multipole moments are specified by the `moment_center` and `moment_orders` arguments.\n",
    "\n",
    "#### Example: Compute Dipole Moment\n",
    "\n",
    "The following example uses the [moment_integral](http://gbasis.qcdevs.org/_autosummary/gbasis.integrals.html#gbasis.integrals.moment.moment_integral) to compute molecular dipole moment. Given the atomic coordinates $\\{\\mathbf{R}\\}$ for $N$ atoms, and the center of mass by $\\mathbf{R_c}$, the molecular dipole moment is given by:\n",
    "\n",
    "$$\n",
    "\\vec{\\mu} = \\sum_{i=1}^{N} Z_i (\\mathbf{R}_i - \\mathbf{R}_c) -\n",
    "        \\int (\\mathbf{r} - \\mathbf{R}_c) \\rho(\\mathbf{r}) d\\mathbf{r}\n",
    "$$\n"
   ]
  },
  {
   "cell_type": "code",
   "execution_count": 7,
   "id": "c859e5a7",
   "metadata": {},
   "outputs": [
    {
     "name": "stdout",
     "output_type": "stream",
     "text": [
      " Nuclear Dipole Moment of the molecule: [-1.23259516e-32  0.00000000e+00  0.00000000e+00]\n",
      "Electric Dipole Moment of the molecule: [-9.81527656e-20  0.00000000e+00  5.60557428e-01]\n",
      "         Dipole Moment of the molecule: [ 9.81527656e-20  0.00000000e+00 -5.60557428e-01]\n",
      "                       Reference value: [ 7.13633937e-18  0.00000000e+00 -5.60557427e-01]\n"
     ]
    }
   ],
   "source": [
    "from gbasis.integrals.moment import moment_integral\n",
    "\n",
    "# extract the 1-RDM from the IOData object\n",
    "rdm = mol.one_rdms['scf']\n",
    "\n",
    "# set the orders of the moment integrals\n",
    "p_ord = np.array([[1, 0, 0], [0, 1, 0], [0, 0, 1]])\n",
    "\n",
    "# compute center of nuclear charge of the molecule\n",
    "mol_cm = mol.atcorenums @ mol.atcoords / np.sum(mol.atcorenums)\n",
    "\n",
    "# calculate the nuclear moment of the molecule\n",
    "mol_np_111 = mol.atcorenums @ (mol.atcoords - mol_cm)\n",
    "print(f\"{'Nuclear Dipole Moment of the molecule: ':>40s}{mol_np_111}\")\n",
    "\n",
    "# compute moment integrals of a set of molecular orbitals\n",
    "int1e_mol_ep_111 = moment_integral(ao_basis, mol_cm, p_ord)\n",
    "\n",
    "# compute electric moments of the molecule \\mu_k = sum rdm_ij * p_ijk\n",
    "mol_ep_111 = np.einsum(\"ij,ijk->k\", rdm, int1e_mol_ep_111)\n",
    "\n",
    "# gbasis electric moment of the molecule\n",
    "print(f\"{'Electric Dipole Moment of the molecule: ':>40s}{mol_ep_111}\")\n",
    "\n",
    "# calculate the total moment of the molecule\n",
    "mol_tp_111 = mol_np_111 - mol_ep_111\n",
    "print(f\"{'Dipole Moment of the molecule: ':>40s}{mol_tp_111}\")\n",
    "print(f\"{'Reference value: ':>40s}{mol.moments[(1,'c')]}\")"
   ]
  },
  {
   "cell_type": "markdown",
   "id": "cec9d314",
   "metadata": {},
   "source": [
    "### 1.4. Integrals over Differential Operator\n",
    "\n",
    "The [`gbasis.integrals`](http://gbasis.qcdevs.org/_autosummary/gbasis.integrals.html#module-gbasis.integrals) module supports the computation of integrals over arbitrary differential operators.\n",
    "\n",
    "$$\\int\\phi_\\mu(\\mathbf{r}) \\frac{\\partial^{i+j+k}}{\\partial x^{i} \\partial y^{j} \\partial z^{k}} \\phi_\\nu(\\mathbf{r})d \\mathbf{r}$$\n",
    "\n",
    "Examples of these integrals are the kinetic energy integrals, and the momentum integrals.\n",
    "\n",
    "### 1.5. Kinetic Energy Integrals\n",
    "\n",
    "The [`kinetic_energy_integral`](http://gbasis.qcdevs.org/_autosummary/gbasis.integrals.html#gbasis.integrals.kinetic_energy.kinetic_energy_integral) computes the kinetic energy integrals between pairs of basis functions in AO basis, unless `transform` argument is provided.\n",
    "\n",
    "```text\n",
    "# From Gaussian16 Output File:\n",
    "# Kinetic energy integral matrix in AO basis:\n",
    "#   1  0.139568D+01\n",
    "#   2  0.259735D+00  0.241917D+00\n",
    "#   3  0.105657D+00  0.115030D+00  0.292565D+01\n",
    "#   4  0.236735D+00  0.199566D+00  0.467227D+00  0.446946D+00\n",
    "```\n"
   ]
  },
  {
   "cell_type": "code",
   "execution_count": 8,
   "id": "929fecf4",
   "metadata": {},
   "outputs": [
    {
     "name": "stdout",
     "output_type": "stream",
     "text": [
      "Shape of kinetic energy integral matrix in AO basis: (4, 4)\n",
      "\n",
      "Kinetic energy integral matrix in AO basis:\n",
      "[[1.39567838 0.259735   0.10565728 0.23673475]\n",
      " [0.259735   0.24191664 0.1150301  0.19956551]\n",
      " [0.10565728 0.1150301  2.92565486 0.46722685]\n",
      " [0.23673475 0.19956551 0.46722685 0.446946  ]]\n",
      "\n",
      "Shape of Kinetic Energy Integral matrix in MO basis: (4, 4)\n",
      "\n",
      "Kinetic energy integral matrix in MO basis:\n",
      "[[ 1.46668936 -0.49993274  0.43649829 -1.52368766]\n",
      " [-0.49993274  0.7947671   0.50202239  0.83209984]\n",
      " [ 0.43649829  0.50202239  1.73387267  0.16632084]\n",
      " [-1.52368766  0.83209984  0.16632084  3.39093136]]\n",
      "\n"
     ]
    }
   ],
   "source": [
    "from gbasis.integrals.kinetic_energy import kinetic_energy_integral\n",
    "\n",
    "# compute kinetic energy integrals in AO basis\n",
    "int1e_kin_ao = kinetic_energy_integral(ao_basis)\n",
    "\n",
    "print(f\"Shape of kinetic energy integral matrix in AO basis: {int1e_kin_ao.shape}\", end=\"\\n\\n\")\n",
    "print(f\"Kinetic energy integral matrix in AO basis:\")\n",
    "print(int1e_kin_ao, end=\"\\n\\n\")\n",
    "\n",
    "# compute kinetic energy integrals in MO basis\n",
    "int1e_kin_mo = kinetic_energy_integral(ao_basis, transform=mo_coeffs.T)\n",
    "\n",
    "print(f\"Shape of Kinetic Energy Integral matrix in MO basis: {int1e_kin_mo.shape}\", end=\"\\n\\n\")\n",
    "print(f\"Kinetic energy integral matrix in MO basis:\")\n",
    "print(int1e_kin_mo, end=\"\\n\\n\")"
   ]
  },
  {
   "cell_type": "markdown",
   "id": "fd1f1bcb",
   "metadata": {},
   "source": [
    "### 1.6. Momentum Integrals\n",
    "\n",
    "The [`momentum_integral`](http://gbasis.qcdevs.org/_autosummary/gbasis.integrals.html#gbasis.integrals.momentum.momentum_integral) function computes the momentum integrals between pairs of basis functions in AO basis, unless `transform` argument is provided. This matrix corresponds to the unitary transformation from the **position space** to the **momentum space** representation. In the example below, the momentum vector for each AO and MO orbital is computed.\n"
   ]
  },
  {
   "cell_type": "code",
   "execution_count": 9,
   "id": "cc922e9a",
   "metadata": {},
   "outputs": [
    {
     "name": "stdout",
     "output_type": "stream",
     "text": [
      "Shape of Momentum Integral matrix in AO basis: (4, 4, 3)\n",
      "Momentum for shell # 1: [0.+0.0e+00j 0.+0.0e+00j 0.+1.6e-16j]\n",
      "Momentum for shell # 2: [0.+0.00e+00j 0.+0.00e+00j 0.-3.58e-17j]\n",
      "Momentum for shell # 3: [0.+0.00e+00j 0.+0.00e+00j 0.+1.65e-16j]\n",
      "Momentum for shell # 4: [0.+0.00e+00j 0.+0.00e+00j 0.+3.31e-17j]\n",
      "\n",
      "Shape of Momentum Integral matrix in MO basis: (4, 4, 3)\n",
      "Momentum for shell # 1: [0.+0.0e+00j 0.+0.0e+00j 0.+1.6e-16j]\n",
      "Momentum for shell # 2: [0.+0.00e+00j 0.+0.00e+00j 0.-3.58e-17j]\n",
      "Momentum for shell # 3: [0.+0.00e+00j 0.+0.00e+00j 0.+1.65e-16j]\n",
      "Momentum for shell # 4: [0.+0.00e+00j 0.+0.00e+00j 0.+3.31e-17j]\n"
     ]
    }
   ],
   "source": [
    "from gbasis.integrals.momentum import momentum_integral\n",
    "\n",
    "# compute momentum integrals in AO basis\n",
    "int1_p_ao = momentum_integral(ao_basis)\n",
    "\n",
    "print(f\"Shape of Momentum Integral matrix in AO basis: {int1_p_ao.shape}\")\n",
    "for i in range(len(ao_basis)):\n",
    "    print(f\"Momentum for shell # {i+1}: {np.array2string(int1_p_ao[i][i], precision=2)}\")\n",
    "\n",
    "# compute momentum integrals in MO basis\n",
    "int1_p_mo = momentum_integral(ao_basis)\n",
    "round\n",
    "\n",
    "print(f\"\\nShape of Momentum Integral matrix in MO basis: {int1_p_mo.shape}\")\n",
    "for i in range(len(ao_basis)):\n",
    "    print(f\"Momentum for shell # {i+1}: {np.array2string(int1_p_mo[i][i], precision=2)}\")"
   ]
  },
  {
   "cell_type": "markdown",
   "id": "536f54f6",
   "metadata": {},
   "source": [
    "### 1.7. Angular Momentum Integrals\n",
    "\n",
    "The [`angular_momentum_integral`](http://gbasis.qcdevs.org/_autosummary/gbasis.integrals.html#gbasis.integrals.angular_momentum.angular_momentum_integral) function computes the angular momentum integral matrix for the AO and MO basis functions. The example below shows how to compute the angular momentum vector and norm.\n"
   ]
  },
  {
   "cell_type": "code",
   "execution_count": 10,
   "id": "fcea8dca",
   "metadata": {},
   "outputs": [
    {
     "name": "stdout",
     "output_type": "stream",
     "text": [
      "|Contraction # | Shell L |      Angular Momentum (x,y,z)      |\n",
      "|      1       |    0    | [0.+0.e+00j 0.-5.e-33j 0.+0.e+00j] |\n",
      "|      2       |    0    | [0.+0.e+00j 0.+1.e-33j 0.+0.e+00j] |\n",
      "|      3       |    0    | [0.+0.e+00j 0.-5.e-33j 0.+0.e+00j] |\n",
      "|      4       |    0    | [0.+0.e+00j 0.-1.e-33j 0.+0.e+00j] |\n",
      "\n",
      "|     MO #     |      Angular Momentum (x,y,z)      |\n",
      "|      1       | [0.+0.e+00j 0.+5.e-18j 0.+0.e+00j] |\n",
      "|      2       | [0.+0.e+00j 0.-2.e-17j 0.+0.e+00j] |\n",
      "|      3       | [0.+0.e+00j 0.-2.e-19j 0.+0.e+00j] |\n",
      "|      4       | [0.+0.e+00j 0.-1.e-17j 0.+0.e+00j] |\n"
     ]
    }
   ],
   "source": [
    "from gbasis.integrals.angular_momentum import angular_momentum_integral\n",
    "\n",
    "# compute angular momentum integrals in AO basis\n",
    "int1_l_ao = angular_momentum_integral(ao_basis)\n",
    "\n",
    "print(\"|{:^14}|{:^9}|{:^36}|\".format(\"Contraction #\", \"Shell L\", \"Angular Momentum (x,y,z)\"))\n",
    "for i, ao_b in enumerate(ao_basis):\n",
    "    print(f\"|{i+1:^14}|{ao_b.angmom:^9}| {np.array2string(int1_l_ao[i][i], precision=0)} |\")\n",
    "print()\n",
    "\n",
    "# compute angular momentum integrals in MO basis\n",
    "int1_l_mo = angular_momentum_integral(ao_basis, transform=mo_coeffs.T)\n",
    "\n",
    "print(\"|{:^14}|{:^36}|\".format(\"MO #\", \"Angular Momentum (x,y,z)\"))\n",
    "for i in range(len(ao_basis)):\n",
    "    print(f\"|{i+1:^14}| {np.array2string(int1_l_mo[i][i], precision=0)} |\")"
   ]
  },
  {
   "cell_type": "markdown",
   "id": "23372d25",
   "metadata": {},
   "source": [
    "### 1.8. Nuclear Attraction Integrals\n",
    "\n",
    "The [`nuclear_electron_attraction`](http://gbasis.qcdevs.org/_autosummary/gbasis.integrals.html?highlight=nuclear_electron_attraction#module-gbasis.integrals.nuclear_electron_attraction) function computes the nuclear attraction integrals to a set of nuclei of $\\{Z_A\\}$ located at $\\{\\mathbf{R}_{A}\\}$ for pairs of AO and MO basis functions.\n",
    "\n",
    "```text\n",
    "# From Gaussian16 Output File:\n",
    "# Reference values:\n",
    "#             1             2             3             4\n",
    "#   1  0.300634D+01\n",
    "#   2  0.159287D+01  0.168097D+01\n",
    "#   3  0.118941D+01  0.124482D+01  0.549025D+01\n",
    "#   4  0.149451D+01  0.159886D+01  0.244432D+01  0.235135D+01\n",
    "```\n"
   ]
  },
  {
   "cell_type": "code",
   "execution_count": 11,
   "id": "995714ad",
   "metadata": {},
   "outputs": [
    {
     "name": "stdout",
     "output_type": "stream",
     "text": [
      "Nuclear-Electron Attraction Integral of AOs (6-31G):\n",
      "[[-3.00634227 -1.59287383 -1.18941322 -1.49450521]\n",
      " [-1.59287383 -1.68097365 -1.24481507 -1.59886117]\n",
      " [-1.18941322 -1.24481507 -5.49024852 -2.44432492]\n",
      " [-1.49450521 -1.59886117 -2.44432492 -2.35135264]]\n",
      "\n",
      "Nuclear-Electron Attraction Integral of MOs (6-31G):\n",
      "[[-4.11469726  0.64655654 -0.48797471  1.78211817]\n",
      " [ 0.64655654 -2.01806794 -0.72857371 -1.09274852]\n",
      " [-0.48797471 -0.72857371 -2.34608045 -0.12666144]\n",
      " [ 1.78211817 -1.09274852 -0.12666144 -3.74760623]]\n"
     ]
    }
   ],
   "source": [
    "from gbasis.integrals.nuclear_electron_attraction import nuclear_electron_attraction_integral\n",
    "\n",
    "# compute nuclear-electron attraction integral in AO basis\n",
    "int1e_nuc_ao = nuclear_electron_attraction_integral(ao_basis, mol.atcoords, mol.atcorenums)\n",
    "\n",
    "print(\"Nuclear-Electron Attraction Integral of AOs (6-31G):\")\n",
    "print(int1e_nuc_ao, end=\"\\n\\n\")\n",
    "\n",
    "# compute nuclear-electron attraction integral in MO basis\n",
    "int1e_nuc_mo = nuclear_electron_attraction_integral(\n",
    "    ao_basis, mol.atcoords, mol.atcorenums, transform=mo_coeffs.T\n",
    ")\n",
    "\n",
    "print(\"Nuclear-Electron Attraction Integral of MOs (6-31G):\")\n",
    "print(int1e_nuc_mo)"
   ]
  },
  {
   "cell_type": "markdown",
   "id": "1bb52c70",
   "metadata": {},
   "source": [
    "### 1.9. Point Charge Integrals\n",
    "\n",
    "The [`point_charge_integral`](http://gbasis.qcdevs.org/_autosummary/gbasis.integrals.html#gbasis.integrals.point_charge.point_charge_integral) function computes the point charge integral matrix for pairs of AO and MO basis functions. The represents the projection of the interaction between a (number) point charge(s) and an electron density onto a basis set.\n",
    "\n",
    "In the example below, the nuclear attraction integrals (in the previous example) is reproduced by setting the point charge position and charge to the coordinates of the nucleus and their corresponding atomic number.\n"
   ]
  },
  {
   "cell_type": "code",
   "execution_count": 12,
   "id": "2be5a5b3",
   "metadata": {},
   "outputs": [
    {
     "name": "stdout",
     "output_type": "stream",
     "text": [
      "Shape of Point Charge Integral matrix in AO basis: (4, 4, 2)\n",
      "NOrbital, NOrbital, NAtom => Need to sum over NAtom\n",
      "\n",
      "Nuclear-Electron Attraction Integral of AOs (6-31G):\n",
      "[[-3.00634227 -1.59287383 -1.18941322 -1.49450521]\n",
      " [-1.59287383 -1.68097365 -1.24481507 -1.59886117]\n",
      " [-1.18941322 -1.24481507 -5.49024852 -2.44432492]\n",
      " [-1.49450521 -1.59886117 -2.44432492 -2.35135264]]\n",
      "\n",
      "Nuclear-Electron Attraction Integral of MOs (6-31G):\n",
      "[[-4.11469726  0.64655654 -0.48797471  1.78211817]\n",
      " [ 0.64655654 -2.01806794 -0.72857371 -1.09274852]\n",
      " [-0.48797471 -0.72857371 -2.34608045 -0.12666144]\n",
      " [ 1.78211817 -1.09274852 -0.12666144 -3.74760623]]\n",
      "\n"
     ]
    }
   ],
   "source": [
    "from gbasis.integrals.point_charge import point_charge_integral\n",
    "\n",
    "# compute integral for interaction between these point charges and the set of atomic orbitals\n",
    "int1e_pc_ao = point_charge_integral(ao_basis, mol.atcoords, mol.atcorenums)\n",
    "\n",
    "print(f\"Shape of Point Charge Integral matrix in AO basis: {int1e_pc_ao.shape}\")\n",
    "print(\"NOrbital, NOrbital, NAtom => Need to sum over NAtom\", end=\"\\n\\n\")\n",
    "\n",
    "print(\"Nuclear-Electron Attraction Integral of AOs (6-31G):\")\n",
    "print(int1e_pc_ao.sum(axis=2), end=\"\\n\\n\")\n",
    "\n",
    "# compute integral for interaction between these point charges and the set of molecular orbitals\n",
    "int1e_pc_mo = point_charge_integral(ao_basis, mol.atcoords, mol.atcorenums, transform=mo_coeffs.T)\n",
    "\n",
    "print(\"Nuclear-Electron Attraction Integral of MOs (6-31G):\")\n",
    "print(int1e_pc_mo.sum(axis=2), end=\"\\n\\n\")"
   ]
  },
  {
   "cell_type": "markdown",
   "id": "a8898b76",
   "metadata": {},
   "source": [
    "#### Example: Computing Core Hamiltonian Matrix\n",
    "\n",
    "The core Hamiltonian matrix is defined as:\n",
    "\n",
    "$$\n",
    "H_{\\mu\\nu} = T_{\\mu\\nu} + V_{\\mu\\nu}\n",
    "$$\n",
    "\n",
    "where $T_{\\mu\\nu}$ are the kinetic energy integral and $V_{\\mu\\nu}$ are the nuclear attraction integral for basis functions $\\mu$ and $\\nu$. In the example below we will compute the core Hamiltonian matrix for the AO basis functions using the previously computed kinetic energy and nuclear attraction integral matrices.\n",
    "\n",
    "```text\n",
    "# From Gaussian16 Output File (line 277 of HeHp.log):\n",
    "# Core Hamiltonian matrix (H_core) in AO basis:\n",
    "#   1 -0.161066D+01\n",
    "#   2 -0.133314D+01 -0.143906D+01\n",
    "#   3 -0.108376D+01 -0.112978D+01 -0.256459D+01\n",
    "#   4 -0.125777D+01 -0.139930D+01 -0.197710D+01 -0.190441D+01\n",
    "```\n"
   ]
  },
  {
   "cell_type": "code",
   "execution_count": 13,
   "id": "7340bb27",
   "metadata": {},
   "outputs": [
    {
     "name": "stdout",
     "output_type": "stream",
     "text": [
      "Core Hamiltonian matrix (H_core) in AO basis:\n",
      "[[-1.6106639  -1.33313883 -1.08375595 -1.25777046]\n",
      " [-1.33313883 -1.43905701 -1.12978497 -1.39929566]\n",
      " [-1.08375595 -1.12978497 -2.56459366 -1.97709807]\n",
      " [-1.25777046 -1.39929566 -1.97709807 -1.90440664]]\n",
      "\n"
     ]
    }
   ],
   "source": [
    "int1e_core = int1e_nuc_ao + int1e_kin_ao\n",
    "print(f\"Core Hamiltonian matrix (H_core) in AO basis:\")\n",
    "print(int1e_core, end=\"\\n\\n\")"
   ]
  },
  {
   "cell_type": "markdown",
   "id": "c0d437ba",
   "metadata": {},
   "source": [
    "## 2. Two-Electron Repulsion Integrals\n",
    "\n",
    "The [`electron_repulsion`](http://gbasis.qcdevs.org/_autosummary/gbasis.integrals.html?highlight=electron#gbasis.integrals.electron_repulsion.electron_repulsion_integral) function compute the electron-electron repulsion integrals in AO or MO basis for a pir of basis functions. In the example below, these integrals will be used to compute the Coulomb J energy.\n"
   ]
  },
  {
   "cell_type": "code",
   "execution_count": 14,
   "id": "1b454be2",
   "metadata": {},
   "outputs": [
    {
     "name": "stdout",
     "output_type": "stream",
     "text": [
      "Shape of Electron-Electron Repulsion Integrals: (4, 4, 4, 4) (#AO, #AO, #AO, #AO)\n",
      "Shape of Electron-Electron Repulsion Integrals: (4, 4, 4, 4) (#MO, #MO, #MO, #MO)\n"
     ]
    }
   ],
   "source": [
    "from gbasis.integrals.electron_repulsion import electron_repulsion_integral\n",
    "\n",
    "# compute electron-electron repulsion integral in AO basis\n",
    "int2e_ao = electron_repulsion_integral(ao_basis, notation=\"chemist\")\n",
    "print(f\"Shape of Electron-Electron Repulsion Integrals: {int2e_ao.shape} (#AO, #AO, #AO, #AO)\")\n",
    "\n",
    "# compute electron-electron repulsion integral in MO basis\n",
    "int2e_mo = electron_repulsion_integral(ao_basis, notation=\"chemist\", transform=mo_coeffs.T)\n",
    "print(f\"Shape of Electron-Electron Repulsion Integrals: {int2e_mo.shape} (#MO, #MO, #MO, #MO)\")"
   ]
  }
 ],
 "metadata": {
  "kernelspec": {
   "display_name": "Python 3 (ipykernel)",
   "language": "python",
   "name": "python3"
  },
  "language_info": {
   "codemirror_mode": {
    "name": "ipython",
    "version": 3
   },
   "file_extension": ".py",
   "mimetype": "text/x-python",
   "name": "python",
   "nbconvert_exporter": "python",
   "pygments_lexer": "ipython3",
   "version": "3.12.1"
  }
 },
 "nbformat": 4,
 "nbformat_minor": 5
}
