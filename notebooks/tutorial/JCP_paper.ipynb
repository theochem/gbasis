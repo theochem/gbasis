{
 "cells": [
  {
   "cell_type": "markdown",
   "id": "ba78e931",
   "metadata": {},
   "source": [
    "<a target=\"_blank\" href=\"https://colab.research.google.com/github/theochem/gbasis/blob/master/notebooks/tutorial/JCP_paper.ipynb\">\n",
    "  <img src=\"https://colab.research.google.com/assets/colab-badge.svg\" alt=\"Open In Colab\"/>\n",
    "</a>"
   ]
  },
  {
   "cell_type": "markdown",
   "id": "829a81dd",
   "metadata": {},
   "source": [
    "# Gbasis publication examples"
   ]
  },
  {
   "cell_type": "markdown",
   "id": "98750c77",
   "metadata": {},
   "source": [
    "This notebook provides the examples of the use of [`Gbasis`](https://gbasis.qcdevs.org/index.html) provided in the publication article."
   ]
  },
  {
   "cell_type": "markdown",
   "id": "bf14c8e8",
   "metadata": {},
   "source": [
    "## Install dependencies and download data"
   ]
  },
  {
   "cell_type": "markdown",
   "id": "d8d868c6",
   "metadata": {},
   "source": [
    "If this this notebook is used in google colab it requires several dependencies and data. The next cell will install the required dependencies if they are not already installed. It will also download the data required for the examples if it is not already downloaded. Uncomment the cell below and execute it."
   ]
  },
  {
   "cell_type": "code",
   "execution_count": null,
   "id": "c7eea3d6",
   "metadata": {},
   "outputs": [],
   "source": [
    "# ! python -m pip install numpy\n",
    "# ! python -m pip install matplotlib\n",
    "# ! python -m pip install scipy\n",
    "# ! python -m pip install urllib3\n",
    "# ! python -m pip install git+https://github.com/theochem/grid.git\n",
    "# ! python -m pip install git+https://github.com/theochem/iodata.git\n",
    "# ! python -m pip install git+https://github.com/theochem/gbasis.git\n",
    "\n",
    "# import os\n",
    "# from urllib.request import urlretrieve\n",
    "\n",
    "# # download the required data files\n",
    "# file_path_1 = \"hydrogen_def2-svp.1.gbs\"\n",
    "# if not os.path.isfile(file_path_1):\n",
    "#   url = \"https://github.com/theochem/gbasis/blob/master/notebooks/tutorial/hydrogen_def2-svp.1.gbs?raw=true\"\n",
    "#   urlretrieve(url, file_path_1)\n",
    "# file_path_2 = \"C2H4_hf_ccpvdz.fchk\"\n",
    "# if not os.path.isfile(file_path_2):\n",
    "#     url = \"https://github.com/theochem/gbasis/blob/master/notebooks/tutorial/C2H4_hf_ccpvdz.fchk?raw=true\"\n",
    "#     urlretrieve(url, file_path_2)\n",
    "\n",
    "# file_path_3 = \"C2H4_hf_ccpvtz.fchk\"\n",
    "# if not os.path.isfile(file_path_3):\n",
    "#     url = \"https://github.com/theochem/gbasis/blob/master/notebooks/tutorial/C2H4_hf_ccpvtz.fchk?raw=true\"\n",
    "#     urlretrieve(url, file_path_3)\n",
    "\n"
   ]
  },
  {
   "cell_type": "markdown",
   "id": "39133268",
   "metadata": {},
   "source": [
    "## A. Building Basis Functions"
   ]
  },
  {
   "cell_type": "markdown",
   "id": "3ee97d3f",
   "metadata": {},
   "source": [
    "Gbasis supports loading basis functions through two different ways:"
   ]
  },
  {
   "cell_type": "markdown",
   "id": "a49c9f7d",
   "metadata": {},
   "source": [
    "1. Basis functions from basis set text files. Currently it supports Gaussian94 and NewChem type files. The `coord_type` argument allows the user to specify Cartesian (\"c\" or \"cartesian\"), spherical (\"p\" or \"spherical\"), or mixed coordinate (as a list) for each contraction."
   ]
  },
  {
   "cell_type": "code",
   "execution_count": 2,
   "id": "5d7552bd",
   "metadata": {},
   "outputs": [
    {
     "name": "stdout",
     "output_type": "stream",
     "text": [
      "Number of generalized shells: 6\n",
      "Total number of AOs:  10\n"
     ]
    }
   ],
   "source": [
    "import numpy as np\n",
    "from gbasis.parsers import parse_gbs, make_contractions\n",
    "\n",
    "# Define atomic symbols and coordinates (i.e., basis function centers)\n",
    "atoms = [\"H\", \"H\"]\n",
    "atcoords = np.array([[0.0, 0.0, 0.0], [0.0, 0.0, 1.0]])\n",
    "\n",
    "# Obtain basis functions from the basis set files\n",
    "basis_dict = parse_gbs(\"hydrogen_def2-svp.1.gbs\")\n",
    "basis = make_contractions(\n",
    "basis_dict, atoms, atcoords, coord_types=\"c\")\n",
    "\n",
    "# To obtain the total number of AOs we compute the cartesian components for each angular momentum\n",
    "total_ao = 0\n",
    "print(f\"Number of generalized shells: {len(basis)}\") # Output 6\n",
    "for shell in basis:\n",
    "    total_ao += shell.angmom_components_cart.shape[0]\n",
    "\n",
    "print(\"Total number of AOs: \", total_ao) # output 10\n"
   ]
  },
  {
   "cell_type": "markdown",
   "id": "75a84418",
   "metadata": {},
   "source": [
    "2. Quantum chemistry calculations through interfaces with [IOData](https://github.com/theochem/iodata) and [PySCF](https://github.com/pyscf/pyscf) packages. IOData provides unified access to various computational chemistry file formats (e.g. formatted checkpoint file, molden, and wfn/wfx wavefunction files). Basis set data stored in `iodata` object is converted to a list of `GeneralizedContractionShell` objects, as exemplified below. "
   ]
  },
  {
   "cell_type": "code",
   "execution_count": 3,
   "id": "1cec596b",
   "metadata": {},
   "outputs": [
    {
     "name": "stdout",
     "output_type": "stream",
     "text": [
      "Number of generalized shells: 24\n",
      "Total number of AOs:  48\n"
     ]
    }
   ],
   "source": [
    "from iodata import load_one\n",
    "from gbasis.wrappers import from_iodata\n",
    "\n",
    "# Load ethylene fchk\n",
    "mol = load_one(\"C2H4_hf_ccpvdz.fchk\")\n",
    "basis = from_iodata(mol, overlap=False)\n",
    "print(f\"Number of generalized shells: {len(basis)}\") # output 24\n",
    "\n",
    "# To obtain the total number of AOs we check for each shell its angular momentum and coordinate type\n",
    "total_ao = 0\n",
    "for shell in basis:\n",
    "    if shell.coord_type == \"cartesian\":\n",
    "        total_ao += shell.angmom_components_cart.shape[0]\n",
    "    elif shell.coord_type == \"spherical\":\n",
    "        total_ao += len(shell.angmom_components_sph)\n",
    "\n",
    "print(\"Total number of AOs: \", total_ao) # output 48\n"
   ]
  },
  {
   "cell_type": "markdown",
   "id": "6b5c7843",
   "metadata": {},
   "source": [
    "Each shell is an object of the base class `GeneralizedContractionShell`. This object contains all the information to perform calculations for the different quantities available in the package. For the first shell in the basis we can access them:"
   ]
  },
  {
   "cell_type": "code",
   "execution_count": 4,
   "id": "532bff92",
   "metadata": {},
   "outputs": [
    {
     "name": "stdout",
     "output_type": "stream",
     "text": [
      "Generalized contraction Shell = 1\n",
      "Coordinates (Bohr):\n",
      "[-1.41331444e-15 -8.50766406e-17  1.24804461e+00]\n",
      "Shape: (3,) --> x,y,z coordinates\n",
      "Angular momentum:  0\n",
      "Exponents primitives:\n",
      "[6.665e+03 1.000e+03 2.280e+02 6.471e+01 2.106e+01 7.495e+00 2.797e+00]\n",
      "Shape: (7,) --> (K,) K=# primitives\n",
      "Contraction coefficients\n",
      "[[0.00069352]\n",
      " [0.0053415 ]\n",
      " [0.02713667]\n",
      " [0.10199239]\n",
      " [0.27550864]\n",
      " [0.45108643]\n",
      " [0.28756574]]\n",
      "Shape: (7, 1) --> (K, M) K=# of primitives, M=# number segmented contraction shells\n",
      "Normalization constants:\n",
      "[[1.]]\n",
      "Shape: (1, 1) --> (M, L), M=# number segmented contraction shells, L=# different angular momentum components\n"
     ]
    }
   ],
   "source": [
    "# For shell 1\n",
    "shell = basis[0]\n",
    "print(f\"Generalized contraction Shell = 1\")\n",
    "print(\"Coordinates (Bohr):\")\n",
    "print(shell.coord)\n",
    "print(\"Shape:\",shell.coord.shape, \"--> x,y,z coordinates\") \n",
    "print(\"Angular momentum: \", shell.angmom)\n",
    "print(\"Exponents primitives:\")\n",
    "print(shell.exps)\n",
    "print(\"Shape:\", shell.exps.shape, \"--> (K,) K=# primitives\")\n",
    "print(\"Contraction coefficients\")\n",
    "print(shell.coeffs)\n",
    "print(\"Shape:\", shell.coeffs.shape, \"--> (K, M) \\\n",
    "K=# of primitives, M=# number segmented contraction shells\")\n",
    "print(\"Normalization constants:\")\n",
    "print(shell.norm_cont)\n",
    "print(\"Shape:\", shell.norm_cont.shape, \"--> (M, L), \\\n",
    "M=# number segmented contraction shells, \\\n",
    "L=# different angular momentum components\")"
   ]
  },
  {
   "cell_type": "markdown",
   "id": "51207e19",
   "metadata": {},
   "source": [
    "We can retrieve information from the molecular system as well as the wavefunction (i.e molecular orbtials) stored inside `iodata` object in the `mol` variables. With molecular orbitals coefficients and occupations it is possible to construct the density matrix in terms of atomic orbitals. This will be used to compute various quantities. "
   ]
  },
  {
   "cell_type": "code",
   "execution_count": 5,
   "id": "a55c652c",
   "metadata": {},
   "outputs": [],
   "source": [
    "# Get atomic numbers, atomic charges,\n",
    "# atomic masses and Cartesian coordinates\n",
    "atnums, atcharges = mol.atnums, mol.atcorenums\n",
    "atcoords, atmasses = mol.atcoords, mol.atmasses\n",
    "\n",
    "# Get molecular orbitals coefficients and occupations\n",
    "mo_coeffs, mo_occs = mol.mo.coeffs, mol.mo.occs\n",
    "\n",
    "# Calculate density matrix \n",
    "dm = np.dot(mo_coeffs * mo_occs, mo_coeffs.T)"
   ]
  },
  {
   "cell_type": "markdown",
   "id": "a86de21d",
   "metadata": {},
   "source": [
    " "
   ]
  },
  {
   "cell_type": "markdown",
   "id": "c9e13731",
   "metadata": {},
   "source": [
    "## B. Computing Integrals"
   ]
  },
  {
   "cell_type": "markdown",
   "id": "1de64a09",
   "metadata": {},
   "source": [
    "The `gbasis.integrals` module supports various 1- and 2-electron integrals as well as an interface to [`Libcint`](https://github.com/sunqm/libcint) library."
   ]
  },
  {
   "cell_type": "markdown",
   "id": "09cdb2b0",
   "metadata": {},
   "source": [
    "## 1. One-Electron Integrals\n",
    "\n",
    "### 1.1. Overlap Integrals\n",
    "\n",
    "The overlap integral is computed by [`overlap_integral`](http://gbasis.qcdevs.org/_autosummary/gbasis.integrals.html#gbasis.integrals.overlap.overlap_integral). This returns a matrix of size (AOs, AOs). The molecular overlap can also be generated if the transformation matrix (i.e molecular coefficients) is passed through the `transform` attribute. To speed up overlap integral calculation a screening based on the exponents and the distance between\n",
    "their centers of the basis functions. To use this functionality the molecule neeeds to be loaded and the argument `overlap` set to `True` (default is `False`)"
   ]
  },
  {
   "cell_type": "code",
   "execution_count": 6,
   "id": "6a46150a",
   "metadata": {},
   "outputs": [
    {
     "name": "stdout",
     "output_type": "stream",
     "text": [
      "Is AO Overlap Normalized? True\n",
      "Is AO Overlap Orthogonal? False\n",
      "Is MO Overlap Orthonormal? True\n",
      "Is Overlap_ao equal to Overlap screening? True\n"
     ]
    }
   ],
   "source": [
    "import numpy as np\n",
    "from gbasis.integrals.overlap import overlap_integral\n",
    "\n",
    "# compute overlap integrals in AO and MO basis\n",
    "olp_ao = overlap_integral(basis)\n",
    "olp_mo = overlap_integral(basis, transform=mo_coeffs.T)\n",
    "\n",
    "# check whether overlap integrals are orthonormal\n",
    "print(\"Is AO Overlap Normalized?\", np.allclose(np.diag(olp_ao),np.ones(total_ao)))\n",
    "print(\"Is AO Overlap Orthogonal?\", np.allclose(olp_ao, np.eye(total_ao)))\n",
    "print(\"Is MO Overlap Orthonormal?\", np.allclose(olp_mo, np.eye(total_ao), atol=1e-7))\n",
    "\n",
    "# Load ethylene to Gbasis and set overlap screen set to True\n",
    "basis_ovlp = from_iodata(mol, tol=1e-5, overlap=True)\n",
    "\n",
    "# compute overlap integrals in AO and MO basis wit screening\n",
    "olp_ao_screening = overlap_integral(basis_ovlp)\n",
    "olp_mo_screening = overlap_integral(basis_ovlp, transform=mo_coeffs.T)\n",
    "print(\"Is Overlap_ao equal to Overlap screening?\", np.allclose(olp_ao, olp_ao_screening, atol=1e-4, rtol=1e-4))"
   ]
  },
  {
   "cell_type": "markdown",
   "id": "3827f77a",
   "metadata": {},
   "source": [
    "### 1.2. Overlap Integrals Between Two Different Basis Sets\n",
    "\n",
    "The [`overlap_integral_asymmetric`](http://gbasis.qcdevs.org/_autosummary/gbasis.integrals.html#module-gbasis.integrals.overlap_asymm) function computes the overlap integrals between two different basis sets, each denoted by a list of generalized contraction shells. The following example showcase how to use this feature to compute the overlap integrals between the `CC-pVDZ` and `CC-pTDZ` basis sets:\n"
   ]
  },
  {
   "cell_type": "code",
   "execution_count": 7,
   "id": "1e77782f",
   "metadata": {},
   "outputs": [
    {
     "name": "stdout",
     "output_type": "stream",
     "text": [
      "Number of shells in CC-pVDZ basis: 44\n",
      "Number of shells in CC-pTDZ basis: 24\n",
      "\n",
      "Shape of overlap matrix: (116, 48)\n"
     ]
    }
   ],
   "source": [
    "from gbasis.parsers import parse_gbs, make_contractions\n",
    "from gbasis.integrals.overlap_asymm import overlap_integral_asymmetric\n",
    "\n",
    "# load ethylene with basis set cc-pTDZ\n",
    "mol_extended_basis = load_one(\"C2H4_hf_ccpvtz.fchk\")\n",
    "basis_extended_basis = from_iodata(mol_extended_basis)\n",
    "\n",
    "print(f\"Number of shells in CC-pVDZ basis: {len(basis_extended_basis)}\")\n",
    "print(f\"Number of shells in CC-pTDZ basis: {len(basis)}\", end=\"\\n\\n\")\n",
    "\n",
    "# compute overlap of two different basis sets\n",
    "olp_asym = overlap_integral_asymmetric(basis_extended_basis, basis)\n",
    "\n",
    "print(f\"Shape of overlap matrix: {olp_asym.shape}\")"
   ]
  },
  {
   "cell_type": "markdown",
   "id": "17f0469f",
   "metadata": {},
   "source": [
    "### 1.3 Integral over arbitrary differential operator\n",
    "\n",
    "The [`gbasis.integrals`](http://gbasis.qcdevs.org/_autosummary/gbasis.integrals.html#module-gbasis.integrals) module supports the computation of integrals over arbitrary differential operators.\n",
    "\n",
    "### 1.3.1 Kinetic energy\n",
    "\n",
    "\n",
    "The [`kinetic_energy_integral`](http://gbasis.qcdevs.org/_autosummary/gbasis.integrals.html#gbasis.integrals.kinetic_energy.kinetic_energy_integral) computes the kinetic energy integrals between pairs of basis functions in AO basis, unless `transform` argument is provided."
   ]
  },
  {
   "cell_type": "code",
   "execution_count": 8,
   "id": "49ea1d66",
   "metadata": {},
   "outputs": [
    {
     "name": "stdout",
     "output_type": "stream",
     "text": [
      "Shape kinetic energy integral:  (48, 48) (#AO, #AO)\n",
      "Kinetic energy (Hartree): 77.9285467708042\n"
     ]
    }
   ],
   "source": [
    "from gbasis.integrals.kinetic_energy import kinetic_energy_integral\n",
    "\n",
    "# compute kinetic energy integrals in AO basis\n",
    "k_int1e = kinetic_energy_integral(basis)\n",
    "print(\"Shape kinetic energy integral: \", k_int1e.shape, \"(#AO, #AO)\")\n",
    "\n",
    "kin_e = np.trace(dm.dot(k_int1e))\n",
    "print(\"Kinetic energy (Hartree):\", kin_e)"
   ]
  },
  {
   "cell_type": "markdown",
   "id": "b6893622",
   "metadata": {},
   "source": [
    "### 1.4 Nuclear electron attraction integral\n",
    "\n",
    "The [`nuclear_electron_attraction`](http://gbasis.qcdevs.org/_autosummary/gbasis.integrals.html?highlight=nuclear_electron_attraction#module-gbasis.integrals.nuclear_electron_attraction) function computes the nuclear attraction integrals to a set of nuclei of $\\{Z_C\\}$ located at $\\{\\mathbf{R}_{C}\\}$ for pairs of AO or MO basis functions. Its computation is build upon the The [`point_charge_integral`](http://gbasis.qcdevs.org/_autosummary/gbasis.integrals.html#gbasis.integrals.point_charge.point_charge_integral). \n",
    "\n",
    "\n"
   ]
  },
  {
   "cell_type": "code",
   "execution_count": 9,
   "id": "e408e945",
   "metadata": {},
   "outputs": [
    {
     "name": "stdout",
     "output_type": "stream",
     "text": [
      "Shape Nuclear-electron integral:  (48, 48) (#AO, #AO)\n",
      "Nuclear-electron energy (Hartree): -248.2770425530744\n"
     ]
    }
   ],
   "source": [
    "from gbasis.integrals.nuclear_electron_attraction import \\\n",
    "nuclear_electron_attraction_integral\n",
    "\n",
    "# compute nuclear-electron attraction integrals in AO basis\n",
    "nuc_int1e = nuclear_electron_attraction_integral(\n",
    "        basis, atcoords, atnums)\n",
    "print(\"Shape Nuclear-electron integral: \", nuc_int1e.shape, \"(#AO, #AO)\")\n",
    "ne_e = np.trace(dm.dot(nuc_int1e))\n",
    "print(\"Nuclear-electron energy (Hartree):\", ne_e)"
   ]
  },
  {
   "cell_type": "markdown",
   "id": "0a8c8905",
   "metadata": {},
   "source": [
    "## 2. Two-Electron Repulsion Integrals\n",
    "\n",
    "The [`electron_repulsion`](http://gbasis.qcdevs.org/_autosummary/gbasis.integrals.html?highlight=electron#gbasis.integrals.electron_repulsion.electron_repulsion_integral) function compute the electron-electron repulsion integrals in AO or MO basis for a pair of basis functions. This integrals can be used to compute Coulomb(J) and Exchange(K)"
   ]
  },
  {
   "cell_type": "code",
   "execution_count": 10,
   "id": "094626e6",
   "metadata": {},
   "outputs": [
    {
     "name": "stdout",
     "output_type": "stream",
     "text": [
      "Shape e-e repulsion integrals: (48, 48, 48, 48) (#MO, #MO, #MO, #MO)\n",
      "Coulomb energy (Hartree): 70.53719756188356\n",
      "Exchange energy (Hartree): 11.756060443132313\n"
     ]
    }
   ],
   "source": [
    "from gbasis.integrals.electron_repulsion import electron_repulsion_integral\n",
    "\n",
    "#Compute e-e repulsion integral in MO basis, shape=(#MO, #MO, #MO, #MO)\n",
    "int2e_mo = electron_repulsion_integral(basis, transform=mo_coeffs.T, notation='chemist')\n",
    "print('Shape e-e repulsion integrals:',int2e_mo.shape,'(#MO, #MO, #MO, #MO)')\n",
    "j_coul = 0\n",
    "k_ex = 0\n",
    "# Mask only occupied Molecular orbitals\n",
    "occ_mo = mo_occs[mo_occs > 0].shape[0] \n",
    "for i in range(occ_mo): \n",
    "    for j in range(occ_mo): \n",
    "        j_coul += 2 * int2e_mo[i,i,j,j]\n",
    "        k_ex += int2e_mo[i,j,i,j]\n",
    "\n",
    "print(\"Coulomb energy (Hartree):\", j_coul)\n",
    "print(\"Exchange energy (Hartree):\", k_ex)"
   ]
  },
  {
   "cell_type": "code",
   "execution_count": 11,
   "id": "853dd390",
   "metadata": {},
   "outputs": [
    {
     "name": "stdout",
     "output_type": "stream",
     "text": [
      "Total energy - Gbasis (Hartree): , -78.04016522086\n",
      "Total energy - Gaussian16 (Hartre):  -78.04016529602737\n"
     ]
    }
   ],
   "source": [
    "# Compute Nucleus-Nucleus repulsion\n",
    "rab = np.triu(np.linalg.norm(atcoords[:, None]- atcoords, axis=-1))\n",
    "at_charges = np.triu(atnums[:, None] * atnums)[np.where(rab > 0)]\n",
    "nn_e = np.sum(at_charges / rab[rab > 0])\n",
    "\n",
    "# Combine all terms to obtain total energy at Restricted HF level\n",
    "e = nn_e + ne_e + kin_e + j_coul - k_ex\n",
    "print(f\"Total energy - Gbasis (Hartree): , {e: 5.11f}\")\n",
    "# SCF energy is stored in iodata object\n",
    "print(\"Total energy - Gaussian16 (Hartre): \", mol.energy ) #-78.0401652"
   ]
  },
  {
   "cell_type": "markdown",
   "id": "77e799ce",
   "metadata": {},
   "source": [
    "## 3. Libcint interface\n",
    "\n",
    "Gbasis includes a python interface to [`Libcint`](https://github.com/sunqm/libcint) library. To access the interface a `CBasis` objects needs to be initialized, which needs as arguments `basis`, list of atom elements and coordinates in atomic units (Bohr). Different from native functionality in Gbasis, Libcint does not work with mix type basis, meaning that all shells passed have to be in either cartesian or spherical coordinates. To showcase its functionality below we compute again the same energy terms. Note: To execute the code Libcint must be installed."
   ]
  },
  {
   "cell_type": "markdown",
   "id": "15c4e030",
   "metadata": {},
   "source": [
    "### IMPORTANT:\n",
    "This block deals with Libcint installation. This needs to be uncommented if you are executing this notebook on Google colab and want to use Libcint interface. Do not uncoment if you are using this notebook locally, Libcint should be installed using bash in a terminal following `README.md` instructions. If Python version is not 3.10 this will most likely break."
   ]
  },
  {
   "cell_type": "code",
   "execution_count": null,
   "id": "ca5a0578",
   "metadata": {},
   "outputs": [],
   "source": [
    "# %%shell\n",
    "# git clone https://github.com/theochem/gbasis.git\n",
    "# cp -r gbasis/tools /usr/local/lib/python3.10/dist-packages/gbasis/\n",
    "# sudo apt-get install -y sbcl\n",
    "# cd /usr/local/lib/python3.10/dist-packages/gbasis/;  ./tools/install_libcint.sh\n",
    "# mv /usr/local/lib/python3.10/dist-packages/gbasis/gbasis/integrals/include/ /usr/local/lib/python3.10/dist-packages/gbasis/integrals\n",
    "# mv /usr/local/lib/python3.10/dist-packages/gbasis/gbasis/integrals/lib/ /usr/local/lib/python3.10/dist-packages/gbasis/integrals/"
   ]
  },
  {
   "cell_type": "code",
   "execution_count": 12,
   "id": "9c691a5c",
   "metadata": {},
   "outputs": [
    {
     "name": "stdout",
     "output_type": "stream",
     "text": [
      "Kinetic energy (CBasis/Hartree)): 77.92854683833846\n",
      "Nuclear-electron energy (CBasis/Hartree)): -248.27704265438183\n",
      "Coulomb energy (CBasis/Hartree)): 70.5371975684723\n",
      "Exchange energy (CBasis/Hartree)): 11.756060454118147\n",
      "Total energy - Gbasis (Hartree): , -78.04016522086\n",
      "Total energy - Cbasis (Hartree): , -78.04016525903\n",
      "Total energy - Gaussian16 (Hartree):  -78.04016529602737\n"
     ]
    }
   ],
   "source": [
    "from gbasis.integrals.libcint import CBasis\n",
    "\n",
    "# Define atomic elements matching atom numbers\n",
    "atoms_ethylene = [\"C\", \"H\", \"H\", \"C\", \"H\", \"H\"]\n",
    "cbasis = CBasis(basis, atoms_ethylene, atcoords, coord_type=\"spherical\")\n",
    "kin_int1e_c= cbasis.kinetic_energy()\n",
    "kin_e_c = np.trace(dm.dot(kin_int1e_c))\n",
    "nuc_int1e_c = cbasis.nuclear_attraction()\n",
    "ne_e_c = np.trace(dm.dot(nuc_int1e_c))\n",
    "int2e_ao_c = cbasis.electron_repulsion() # physicist notation\n",
    "# Transform from AO basis to MO basis\n",
    "int2e_mo_raw = np.einsum('ai, abdc->ibdc', mol.mo.coeffs, int2e_ao_c)\n",
    "int2e_mo_raw = np.einsum('bj, ibdc->ijdc', mol.mo.coeffs, int2e_mo_raw)\n",
    "int2e_mo_raw = np.einsum('dk, ijdc->ijkc', mol.mo.coeffs, int2e_mo_raw)\n",
    "int2e_mo_c = np.einsum('cl, ijkc->ijkl', mol.mo.coeffs, int2e_mo_raw)\n",
    "\n",
    "j_coul_c = 0\n",
    "k_ex_c = 0\n",
    "# Mask only occupied Molecular orbitals\n",
    "occ_mo = mo_occs[mo_occs > 0].shape[0] \n",
    "occ_mo = mol.mo.occs[mol.mo.occs > 0].shape[0] \n",
    "for i in range(occ_mo): \n",
    "    for j in range(occ_mo): \n",
    "        j_coul_c += 2 * int2e_mo_c[i,j,i,j]\n",
    "        k_ex_c += int2e_mo_c[i,j,j,i]\n",
    "\n",
    "print(\"Kinetic energy (CBasis/Hartree)):\", kin_e_c)\n",
    "print(\"Nuclear-electron energy (CBasis/Hartree)):\", ne_e_c)\n",
    "print(\"Coulomb energy (CBasis/Hartree)):\", j_coul_c)\n",
    "print(\"Exchange energy (CBasis/Hartree)):\", k_ex_c)\n",
    "# Combine all terms to obtain total energy at Restricted HF level\n",
    "e_cbasis = nn_e + ne_e_c + kin_e_c + j_coul_c - k_ex_c\n",
    "print(f\"Total energy - Gbasis (Hartree): , {e: 5.11f}\")\n",
    "print(f\"Total energy - Cbasis (Hartree): , {e_cbasis: 5.11f}\")\n",
    "# SCF energy is stored in iodata object\n",
    "print(\"Total energy - Gaussian16 (Hartree): \", mol.energy ) #-78.0401652"
   ]
  },
  {
   "cell_type": "markdown",
   "id": "f1a5953c",
   "metadata": {},
   "source": [
    " "
   ]
  },
  {
   "cell_type": "markdown",
   "id": "504439bb",
   "metadata": {},
   "source": [
    "## C. Evaluations"
   ]
  },
  {
   "cell_type": "markdown",
   "id": "38e25795",
   "metadata": {},
   "source": [
    "## 1. Basis functions"
   ]
  },
  {
   "cell_type": "markdown",
   "id": "7f903d3f",
   "metadata": {},
   "source": [
    "The [`gbasis.evals`](http://gbasis.qcdevs.org/_autosummary/gbasis.evals.html) module supports evaluating functions that are expanded in\n",
    "Gaussian basis set on a set of points.For the following examples, we use the [`Grid`](https://github.com/theochem/grid) library to\n",
    "generate the Becke-Lebedev molecular grid:"
   ]
  },
  {
   "cell_type": "code",
   "execution_count": 13,
   "id": "a0a0acee",
   "metadata": {},
   "outputs": [
    {
     "name": "stdout",
     "output_type": "stream",
     "text": [
      "Number of grid points =  16796\n"
     ]
    }
   ],
   "source": [
    "from grid.molgrid import MolGrid\n",
    "\n",
    "grid = MolGrid.from_preset(\n",
    "        atnums=mol.atnums, atcoords=atcoords, preset=\"fine\")\n",
    "print(\"Number of grid points = \", grid.size)"
   ]
  },
  {
   "cell_type": "markdown",
   "id": "f351f9dc",
   "metadata": {},
   "source": [
    "The following example show how to evaluate atomic and molecular orbitals and their derivatives"
   ]
  },
  {
   "cell_type": "code",
   "execution_count": 14,
   "id": "a075ad14",
   "metadata": {},
   "outputs": [
    {
     "name": "stdout",
     "output_type": "stream",
     "text": [
      "Shape MOs evaluated in a Molecular grid: \n",
      "(48, 16796) (#MOs, #Grid points)\n",
      "MO 1 integrated squared:  1.0000027687589634\n",
      "MO 2 integrated squared:  1.0000027654426193\n",
      "MO 3 integrated squared:  0.9999978011521944\n",
      "MO 4 integrated squared:  0.9999860542308123\n",
      "MO 5 integrated squared:  0.9999893708000488\n",
      "MO 6 integrated squared:  0.9999931468746739\n",
      "MO 7 integrated squared:  0.99997589380213\n",
      "MO 8 integrated squared:  0.9999976856899412\n"
     ]
    }
   ],
   "source": [
    "from gbasis.evals.eval import evaluate_basis\n",
    "from gbasis.evals.eval_deriv import evaluate_deriv_basis\n",
    "\n",
    "# Evaluate the MOs on the grid points\n",
    "basis_mo = evaluate_basis(basis, grid.points, transform=mo_coeffs.T)\n",
    "print(\"Shape MOs evaluated in a Molecular grid: \")\n",
    "print(basis_mo.shape, \"(#MOs, #Grid points)\")\n",
    "\n",
    "# Integration MO\n",
    "# Mask only occupied Molecular orbitals\n",
    "occ_mo = mo_occs[mo_occs > 0].shape[0] \n",
    "for i in range(occ_mo): # Only occupied MOs\n",
    "    eval_mo = basis_mo[i] * basis_mo[i]\n",
    "    print(f\"MO {i+1} integrated squared: \", grid.integrate(eval_mo))\n",
    "\n",
    "# evaluate 6th derivative w.r.t. y for MOs on the grid points\n",
    "deriv_6_mo = evaluate_deriv_basis(basis, grid.points, \n",
    "        orders=np.array([0,6,0]), transform=mo_coeffs.T)"
   ]
  },
  {
   "cell_type": "markdown",
   "id": "139ce4c9",
   "metadata": {},
   "source": [
    "## 2. Density Related properties"
   ]
  },
  {
   "cell_type": "markdown",
   "id": "8b2ff75e",
   "metadata": {},
   "source": [
    "Gbasis supports evaluating the electron density and arbitrary-order derivatives"
   ]
  },
  {
   "cell_type": "code",
   "execution_count": 15,
   "id": "f118adbf",
   "metadata": {},
   "outputs": [
    {
     "name": "stdout",
     "output_type": "stream",
     "text": [
      "Total number of electrons:  15.99989097350276\n"
     ]
    }
   ],
   "source": [
    "from gbasis.evals.density import evaluate_density\n",
    "\n",
    "# compute electronic density\n",
    "dens = evaluate_density(dm, basis, grid.points)\n",
    "# integrate density and compare to the number of electrons in the system\n",
    "print(\"Total number of electrons: \", grid.integrate(dens)) # Total number of electrons ethylene = 16"
   ]
  },
  {
   "cell_type": "markdown",
   "id": "b75a25c0",
   "metadata": {},
   "source": [
    "In the special case of the gradient, Hessian, and the Laplacian of the electron\n",
    "density, Gbasis has high-level functions implementing the calculation and combination of the necessary derivatives orders. Up to second order, the user has the option\n",
    "to choose between the arbitrary-order-derivative implementation, or the explicitly\n",
    "coded 1st and 2nd derivatives."
   ]
  },
  {
   "cell_type": "code",
   "execution_count": 16,
   "id": "4d1c2d92",
   "metadata": {},
   "outputs": [
    {
     "name": "stdout",
     "output_type": "stream",
     "text": [
      "-0.0049650299404096635\n",
      "-0.004965029940581106\n",
      "Are General and Direct implementation the same? True\n"
     ]
    }
   ],
   "source": [
    "from gbasis.evals.density import evaluate_density_laplacian\n",
    "\n",
    "# compute Laplacian of electron density\n",
    "# general arbitrary-order-derivative implementation\n",
    "lap_gen = evaluate_density_laplacian(dm, basis, grid.points, deriv_type='general')\n",
    "print(grid.integrate(lap_gen)) # Expected value: 0\n",
    "# Direct implementation of 1s and 2nd order derivatives\n",
    "lap_dir = evaluate_density_laplacian(dm, basis, grid.points, deriv_type='direct')\n",
    "print(grid.integrate(lap_dir)) # Expected value: 0\n",
    "print(\"Are General and Direct implementation the same?\", \n",
    "      np.allclose(lap_gen, lap_dir))"
   ]
  },
  {
   "cell_type": "markdown",
   "id": "423d1d63",
   "metadata": {},
   "source": [
    "## 3. Density Matrix Related properties"
   ]
  },
  {
   "cell_type": "markdown",
   "id": "46286b81",
   "metadata": {},
   "source": [
    "GBasis also supports the evaluation of the one-electron reduced density matrix\n",
    "and arbitrary order derivatives on a set of grid points. Supported related properties are the stress tensor, the Ehrenfest force and the Ehrenfest Hessian. Below we show an example on how to use the Ehrenfest force. Other properties are accessed similarly with their corresponding high level function."
   ]
  },
  {
   "cell_type": "code",
   "execution_count": 17,
   "id": "9791b0a7",
   "metadata": {},
   "outputs": [
    {
     "name": "stdout",
     "output_type": "stream",
     "text": [
      "Center of mass of ethylene: [[ 5.03790449e-17  5.93301676e-18 -5.93301676e-18]]\n",
      "\n",
      "Ehrenfest force (alpha = 1 and beta = 0):\n",
      "Shape of a Ehrenfest force at one point: (3,)\n",
      "Ehrenfest force at center of mass:\n",
      "[[-8.59906292e-17 -3.88840561e-17  8.51183409e-18]]\n",
      "Ehrenfest force at center of mass is 0: True\n",
      "(should be zero, it is Lorentz point)\n",
      "\n"
     ]
    }
   ],
   "source": [
    "from gbasis.evals.stress_tensor import evaluate_ehrenfest_force\n",
    "\n",
    "#center of mass ethylene\n",
    "com = (np.mean(atmasses[:,None] * atcoords, axis=0) / np.sum(atmasses))[None,:]\n",
    "print(f\"Center of mass of ethylene: {com}\", end=\"\\n\\n\")\n",
    "alpha, beta = 1, 0\n",
    "print(f\"Ehrenfest force (alpha = {alpha} and beta = {beta}):\")\n",
    "ef_com = evaluate_ehrenfest_force(dm, \n",
    "                                  basis, \n",
    "                                  com, \n",
    "                                  alpha=alpha, \n",
    "                                  beta=beta)\n",
    "print(f\"Shape of a Ehrenfest force at one point: {ef_com[0].shape}\")\n",
    "print(f\"Ehrenfest force at center of mass:\\n{ef_com}\")\n",
    "print(f\"Ehrenfest force at center of mass is 0: {np.allclose(ef_com, 0)}\")\n",
    "print(f\"(should be zero, it is Lorentz point)\", end=\"\\n\\n\")"
   ]
  },
  {
   "cell_type": "markdown",
   "id": "7edf6264",
   "metadata": {},
   "source": [
    "## 4. Electrostatic potential"
   ]
  },
  {
   "cell_type": "markdown",
   "id": "047f2177",
   "metadata": {},
   "source": [
    "An high-level function for computing the molecular electrostatic potential is also provided. It is more suitable to use a cubic grid for this computation, which is typically used for visualizing molecular surface properties."
   ]
  },
  {
   "cell_type": "code",
   "execution_count": 18,
   "id": "608bdeb2",
   "metadata": {},
   "outputs": [
    {
     "name": "stdout",
     "output_type": "stream",
     "text": [
      "Shape electrostatic potential output:  (5040,) #Grid points\n"
     ]
    }
   ],
   "source": [
    "from grid import UniformGrid\n",
    "from gbasis.evals.electrostatic_potential import electrostatic_potential\n",
    "\n",
    "# construct a cubic grid\n",
    "cube_grid = UniformGrid.from_molecule(atnums,\n",
    "                                      atcoords, \n",
    "                                      spacing=0.75, \n",
    "                                      extension=5.0, \n",
    "                                      rotate=True)\n",
    "\n",
    "# compute electrostatic potential on the grid point\n",
    "esp = electrostatic_potential(basis=basis,\n",
    "                              one_density_matrix=dm,\n",
    "                              points=cube_grid.points,\n",
    "                              nuclear_coords=atcoords,\n",
    "                              nuclear_charges=atcharges)\n",
    "print(\"Shape electrostatic potential output: \", esp.shape, \"#Grid points\")\n",
    "\n",
    "# generate a cube\n",
    "cube_grid.generate_cube(fname=\"ethylene.cube\",\n",
    "                        data=esp,\n",
    "                        atcoords=atcoords,\n",
    "                        atnums=atnums,\n",
    "                        pseudo_numbers=atcharges)"
   ]
  },
  {
   "cell_type": "code",
   "execution_count": null,
   "id": "97b24d80",
   "metadata": {},
   "outputs": [],
   "source": []
  }
 ],
 "metadata": {
  "kernelspec": {
   "display_name": "Python 3 (ipykernel)",
   "language": "python",
   "name": "python3"
  },
  "language_info": {
   "codemirror_mode": {
    "name": "ipython",
    "version": 3
   },
   "file_extension": ".py",
   "mimetype": "text/x-python",
   "name": "python",
   "nbconvert_exporter": "python",
   "pygments_lexer": "ipython3",
   "version": "3.7.12"
  }
 },
 "nbformat": 4,
 "nbformat_minor": 5
}
